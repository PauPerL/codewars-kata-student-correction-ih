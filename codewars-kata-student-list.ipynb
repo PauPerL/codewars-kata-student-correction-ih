{
 "cells": [
  {
   "cell_type": "code",
   "execution_count": 1,
   "metadata": {},
   "outputs": [
    {
     "name": "stdout",
     "output_type": "stream",
     "text": [
      "pygame 2.0.0 (SDL 2.0.12, python 3.9.0)\n",
      "Hello from the pygame community. https://www.pygame.org/contribute.html\n"
     ]
    }
   ],
   "source": [
    "from modules import adquire, cleaning, create_df_checking, outputs\n",
    "from numpy.random import choice\n",
    "from time import sleep\n",
    "import pygame\n",
    "pygame.mixer.init()"
   ]
  },
  {
   "cell_type": "code",
   "execution_count": 12,
   "metadata": {},
   "outputs": [
    {
     "name": "stdout",
     "output_type": "stream",
     "text": [
      "AnaAGG presentará la kata keep-hydrated-1\n"
     ]
    },
    {
     "data": {
      "text/html": [
       "<style  type=\"text/css\" >\n",
       "#T_126e8f6a_5999_11eb_88e2_acde48001122row0_col0,#T_126e8f6a_5999_11eb_88e2_acde48001122row0_col1,#T_126e8f6a_5999_11eb_88e2_acde48001122row1_col0,#T_126e8f6a_5999_11eb_88e2_acde48001122row1_col1,#T_126e8f6a_5999_11eb_88e2_acde48001122row2_col0,#T_126e8f6a_5999_11eb_88e2_acde48001122row2_col1,#T_126e8f6a_5999_11eb_88e2_acde48001122row3_col0,#T_126e8f6a_5999_11eb_88e2_acde48001122row3_col1,#T_126e8f6a_5999_11eb_88e2_acde48001122row4_col0,#T_126e8f6a_5999_11eb_88e2_acde48001122row4_col1,#T_126e8f6a_5999_11eb_88e2_acde48001122row5_col0,#T_126e8f6a_5999_11eb_88e2_acde48001122row5_col1,#T_126e8f6a_5999_11eb_88e2_acde48001122row6_col1,#T_126e8f6a_5999_11eb_88e2_acde48001122row7_col1,#T_126e8f6a_5999_11eb_88e2_acde48001122row8_col1,#T_126e8f6a_5999_11eb_88e2_acde48001122row9_col1,#T_126e8f6a_5999_11eb_88e2_acde48001122row10_col0,#T_126e8f6a_5999_11eb_88e2_acde48001122row10_col1,#T_126e8f6a_5999_11eb_88e2_acde48001122row11_col0,#T_126e8f6a_5999_11eb_88e2_acde48001122row11_col1,#T_126e8f6a_5999_11eb_88e2_acde48001122row12_col0,#T_126e8f6a_5999_11eb_88e2_acde48001122row12_col1,#T_126e8f6a_5999_11eb_88e2_acde48001122row15_col0,#T_126e8f6a_5999_11eb_88e2_acde48001122row15_col1,#T_126e8f6a_5999_11eb_88e2_acde48001122row16_col0,#T_126e8f6a_5999_11eb_88e2_acde48001122row16_col1,#T_126e8f6a_5999_11eb_88e2_acde48001122row17_col1{\n",
       "            color:  green;\n",
       "        }#T_126e8f6a_5999_11eb_88e2_acde48001122row6_col0,#T_126e8f6a_5999_11eb_88e2_acde48001122row7_col0,#T_126e8f6a_5999_11eb_88e2_acde48001122row8_col0,#T_126e8f6a_5999_11eb_88e2_acde48001122row9_col0,#T_126e8f6a_5999_11eb_88e2_acde48001122row13_col0,#T_126e8f6a_5999_11eb_88e2_acde48001122row13_col1,#T_126e8f6a_5999_11eb_88e2_acde48001122row14_col0,#T_126e8f6a_5999_11eb_88e2_acde48001122row14_col1,#T_126e8f6a_5999_11eb_88e2_acde48001122row17_col0{\n",
       "            color:  red;\n",
       "        }</style><table id=\"T_126e8f6a_5999_11eb_88e2_acde48001122\" ><thead>    <tr>        <th class=\"index_name level0\" >slug</th>        <th class=\"col_heading level0 col0\" >sum-mixed-array</th>        <th class=\"col_heading level0 col1\" >keep-hydrated-1</th>    </tr>    <tr>        <th class=\"index_name level0\" >username</th>        <th class=\"blank\" ></th>        <th class=\"blank\" ></th>    </tr></thead><tbody>\n",
       "                <tr>\n",
       "                        <th id=\"T_126e8f6a_5999_11eb_88e2_acde48001122level0_row0\" class=\"row_heading level0 row0\" >amorenorp</th>\n",
       "                        <td id=\"T_126e8f6a_5999_11eb_88e2_acde48001122row0_col0\" class=\"data row0 col0\" >True</td>\n",
       "                        <td id=\"T_126e8f6a_5999_11eb_88e2_acde48001122row0_col1\" class=\"data row0 col1\" >True</td>\n",
       "            </tr>\n",
       "            <tr>\n",
       "                        <th id=\"T_126e8f6a_5999_11eb_88e2_acde48001122level0_row1\" class=\"row_heading level0 row1\" >alfredozavala14</th>\n",
       "                        <td id=\"T_126e8f6a_5999_11eb_88e2_acde48001122row1_col0\" class=\"data row1 col0\" >True</td>\n",
       "                        <td id=\"T_126e8f6a_5999_11eb_88e2_acde48001122row1_col1\" class=\"data row1 col1\" >True</td>\n",
       "            </tr>\n",
       "            <tr>\n",
       "                        <th id=\"T_126e8f6a_5999_11eb_88e2_acde48001122level0_row2\" class=\"row_heading level0 row2\" >anadeluna</th>\n",
       "                        <td id=\"T_126e8f6a_5999_11eb_88e2_acde48001122row2_col0\" class=\"data row2 col0\" >True</td>\n",
       "                        <td id=\"T_126e8f6a_5999_11eb_88e2_acde48001122row2_col1\" class=\"data row2 col1\" >True</td>\n",
       "            </tr>\n",
       "            <tr>\n",
       "                        <th id=\"T_126e8f6a_5999_11eb_88e2_acde48001122level0_row3\" class=\"row_heading level0 row3\" >AnaAGG</th>\n",
       "                        <td id=\"T_126e8f6a_5999_11eb_88e2_acde48001122row3_col0\" class=\"data row3 col0\" >True</td>\n",
       "                        <td id=\"T_126e8f6a_5999_11eb_88e2_acde48001122row3_col1\" class=\"data row3 col1\" >True</td>\n",
       "            </tr>\n",
       "            <tr>\n",
       "                        <th id=\"T_126e8f6a_5999_11eb_88e2_acde48001122level0_row4\" class=\"row_heading level0 row4\" >angelanavarro</th>\n",
       "                        <td id=\"T_126e8f6a_5999_11eb_88e2_acde48001122row4_col0\" class=\"data row4 col0\" >True</td>\n",
       "                        <td id=\"T_126e8f6a_5999_11eb_88e2_acde48001122row4_col1\" class=\"data row4 col1\" >True</td>\n",
       "            </tr>\n",
       "            <tr>\n",
       "                        <th id=\"T_126e8f6a_5999_11eb_88e2_acde48001122level0_row5\" class=\"row_heading level0 row5\" >antoniogarciagiron</th>\n",
       "                        <td id=\"T_126e8f6a_5999_11eb_88e2_acde48001122row5_col0\" class=\"data row5 col0\" >True</td>\n",
       "                        <td id=\"T_126e8f6a_5999_11eb_88e2_acde48001122row5_col1\" class=\"data row5 col1\" >True</td>\n",
       "            </tr>\n",
       "            <tr>\n",
       "                        <th id=\"T_126e8f6a_5999_11eb_88e2_acde48001122level0_row6\" class=\"row_heading level0 row6\" >xarlomi</th>\n",
       "                        <td id=\"T_126e8f6a_5999_11eb_88e2_acde48001122row6_col0\" class=\"data row6 col0\" >False</td>\n",
       "                        <td id=\"T_126e8f6a_5999_11eb_88e2_acde48001122row6_col1\" class=\"data row6 col1\" >True</td>\n",
       "            </tr>\n",
       "            <tr>\n",
       "                        <th id=\"T_126e8f6a_5999_11eb_88e2_acde48001122level0_row7\" class=\"row_heading level0 row7\" >CristinaCallejo</th>\n",
       "                        <td id=\"T_126e8f6a_5999_11eb_88e2_acde48001122row7_col0\" class=\"data row7 col0\" >False</td>\n",
       "                        <td id=\"T_126e8f6a_5999_11eb_88e2_acde48001122row7_col1\" class=\"data row7 col1\" >True</td>\n",
       "            </tr>\n",
       "            <tr>\n",
       "                        <th id=\"T_126e8f6a_5999_11eb_88e2_acde48001122level0_row8\" class=\"row_heading level0 row8\" >Florengutierrez</th>\n",
       "                        <td id=\"T_126e8f6a_5999_11eb_88e2_acde48001122row8_col0\" class=\"data row8 col0\" >False</td>\n",
       "                        <td id=\"T_126e8f6a_5999_11eb_88e2_acde48001122row8_col1\" class=\"data row8 col1\" >True</td>\n",
       "            </tr>\n",
       "            <tr>\n",
       "                        <th id=\"T_126e8f6a_5999_11eb_88e2_acde48001122level0_row9\" class=\"row_heading level0 row9\" >yamadajc</th>\n",
       "                        <td id=\"T_126e8f6a_5999_11eb_88e2_acde48001122row9_col0\" class=\"data row9 col0\" >False</td>\n",
       "                        <td id=\"T_126e8f6a_5999_11eb_88e2_acde48001122row9_col1\" class=\"data row9 col1\" >True</td>\n",
       "            </tr>\n",
       "            <tr>\n",
       "                        <th id=\"T_126e8f6a_5999_11eb_88e2_acde48001122level0_row10\" class=\"row_heading level0 row10\" >Trivino</th>\n",
       "                        <td id=\"T_126e8f6a_5999_11eb_88e2_acde48001122row10_col0\" class=\"data row10 col0\" >True</td>\n",
       "                        <td id=\"T_126e8f6a_5999_11eb_88e2_acde48001122row10_col1\" class=\"data row10 col1\" >True</td>\n",
       "            </tr>\n",
       "            <tr>\n",
       "                        <th id=\"T_126e8f6a_5999_11eb_88e2_acde48001122level0_row11\" class=\"row_heading level0 row11\" >MARINADIEZS</th>\n",
       "                        <td id=\"T_126e8f6a_5999_11eb_88e2_acde48001122row11_col0\" class=\"data row11 col0\" >True</td>\n",
       "                        <td id=\"T_126e8f6a_5999_11eb_88e2_acde48001122row11_col1\" class=\"data row11 col1\" >True</td>\n",
       "            </tr>\n",
       "            <tr>\n",
       "                        <th id=\"T_126e8f6a_5999_11eb_88e2_acde48001122level0_row12\" class=\"row_heading level0 row12\" >mgarciabruzon</th>\n",
       "                        <td id=\"T_126e8f6a_5999_11eb_88e2_acde48001122row12_col0\" class=\"data row12 col0\" >True</td>\n",
       "                        <td id=\"T_126e8f6a_5999_11eb_88e2_acde48001122row12_col1\" class=\"data row12 col1\" >True</td>\n",
       "            </tr>\n",
       "            <tr>\n",
       "                        <th id=\"T_126e8f6a_5999_11eb_88e2_acde48001122level0_row13\" class=\"row_heading level0 row13\" >paolakarina</th>\n",
       "                        <td id=\"T_126e8f6a_5999_11eb_88e2_acde48001122row13_col0\" class=\"data row13 col0\" >False</td>\n",
       "                        <td id=\"T_126e8f6a_5999_11eb_88e2_acde48001122row13_col1\" class=\"data row13 col1\" >False</td>\n",
       "            </tr>\n",
       "            <tr>\n",
       "                        <th id=\"T_126e8f6a_5999_11eb_88e2_acde48001122level0_row14\" class=\"row_heading level0 row14\" >sant_hart97</th>\n",
       "                        <td id=\"T_126e8f6a_5999_11eb_88e2_acde48001122row14_col0\" class=\"data row14 col0\" >False</td>\n",
       "                        <td id=\"T_126e8f6a_5999_11eb_88e2_acde48001122row14_col1\" class=\"data row14 col1\" >False</td>\n",
       "            </tr>\n",
       "            <tr>\n",
       "                        <th id=\"T_126e8f6a_5999_11eb_88e2_acde48001122level0_row15\" class=\"row_heading level0 row15\" >sergio calero</th>\n",
       "                        <td id=\"T_126e8f6a_5999_11eb_88e2_acde48001122row15_col0\" class=\"data row15 col0\" >True</td>\n",
       "                        <td id=\"T_126e8f6a_5999_11eb_88e2_acde48001122row15_col1\" class=\"data row15 col1\" >True</td>\n",
       "            </tr>\n",
       "            <tr>\n",
       "                        <th id=\"T_126e8f6a_5999_11eb_88e2_acde48001122level0_row16\" class=\"row_heading level0 row16\" >SoniaFomi</th>\n",
       "                        <td id=\"T_126e8f6a_5999_11eb_88e2_acde48001122row16_col0\" class=\"data row16 col0\" >True</td>\n",
       "                        <td id=\"T_126e8f6a_5999_11eb_88e2_acde48001122row16_col1\" class=\"data row16 col1\" >True</td>\n",
       "            </tr>\n",
       "            <tr>\n",
       "                        <th id=\"T_126e8f6a_5999_11eb_88e2_acde48001122level0_row17\" class=\"row_heading level0 row17\" >XabierArrieta</th>\n",
       "                        <td id=\"T_126e8f6a_5999_11eb_88e2_acde48001122row17_col0\" class=\"data row17 col0\" >False</td>\n",
       "                        <td id=\"T_126e8f6a_5999_11eb_88e2_acde48001122row17_col1\" class=\"data row17 col1\" >True</td>\n",
       "            </tr>\n",
       "    </tbody></table>"
      ],
      "text/plain": [
       "<pandas.io.formats.style.Styler at 0x126711a30>"
      ]
     },
     "metadata": {},
     "output_type": "display_data"
    }
   ],
   "source": [
    "#drumroll = pygame.mixer.Sound('drumroll.wav')\n",
    "#drumroll.play()\n",
    "\n",
    "def main(): \n",
    "    df_students, df_katas = adquire()    \n",
    "    df_students, df_katas = cleaning(df_students, df_katas)\n",
    "    df,hora= create_df_checking(df_students, df_katas)    \n",
    "    outputs(df,False)\n",
    "    return df\n",
    "\n",
    "\n",
    "if __name__ == '__main__':\n",
    "    df = main()"
   ]
  },
  {
   "cell_type": "code",
   "execution_count": null,
   "metadata": {},
   "outputs": [],
   "source": []
  }
 ],
 "metadata": {
  "kernelspec": {
   "display_name": "Python 3",
   "language": "python",
   "name": "python3"
  },
  "language_info": {
   "codemirror_mode": {
    "name": "ipython",
    "version": 3
   },
   "file_extension": ".py",
   "mimetype": "text/x-python",
   "name": "python",
   "nbconvert_exporter": "python",
   "pygments_lexer": "ipython3",
   "version": "3.9.0"
  },
  "toc": {
   "base_numbering": 1,
   "nav_menu": {},
   "number_sections": true,
   "sideBar": true,
   "skip_h1_title": false,
   "title_cell": "Table of Contents",
   "title_sidebar": "Contents",
   "toc_cell": false,
   "toc_position": {},
   "toc_section_display": true,
   "toc_window_display": false
  }
 },
 "nbformat": 4,
 "nbformat_minor": 2
}
