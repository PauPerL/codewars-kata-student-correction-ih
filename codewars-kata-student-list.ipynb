{
 "cells": [
  {
   "cell_type": "code",
   "execution_count": 49,
   "metadata": {},
   "outputs": [],
   "source": [
    "from modules import adquire, cleaning, create_df_checking, outputs\n",
    "from numpy.random import choice\n",
    "from time import sleep\n",
    "#import pygame\n",
    "#pygame.mixer.init()"
   ]
  },
  {
   "cell_type": "code",
   "execution_count": 50,
   "metadata": {},
   "outputs": [
    {
     "name": "stdout",
     "output_type": "stream",
     "text": [
      "EduMartinezGarrido presentará la kata counting-sheep-dot-dot-dot\n"
     ]
    },
    {
     "data": {
      "text/html": [
       "<style  type=\"text/css\" >\n",
       "#T_5b850_row0_col0,#T_5b850_row1_col0,#T_5b850_row2_col0,#T_5b850_row4_col0,#T_5b850_row5_col0,#T_5b850_row6_col0,#T_5b850_row7_col0,#T_5b850_row8_col0,#T_5b850_row9_col0,#T_5b850_row10_col0,#T_5b850_row11_col0,#T_5b850_row12_col0,#T_5b850_row16_col0,#T_5b850_row17_col0,#T_5b850_row18_col0{\n",
       "            color:  green;\n",
       "        }#T_5b850_row3_col0,#T_5b850_row13_col0,#T_5b850_row14_col0,#T_5b850_row15_col0{\n",
       "            color:  red;\n",
       "        }</style><table id=\"T_5b850_\" ><thead>    <tr>        <th class=\"index_name level0\" >slug</th>        <th class=\"col_heading level0 col0\" >counting-sheep-dot-dot-dot</th>    </tr>    <tr>        <th class=\"index_name level0\" >username</th>        <th class=\"blank\" ></th>    </tr></thead><tbody>\n",
       "                <tr>\n",
       "                        <th id=\"T_5b850_level0_row0\" class=\"row_heading level0 row0\" >FranLRamos</th>\n",
       "                        <td id=\"T_5b850_row0_col0\" class=\"data row0 col0\" >True</td>\n",
       "            </tr>\n",
       "            <tr>\n",
       "                        <th id=\"T_5b850_level0_row1\" class=\"row_heading level0 row1\" >capitanz</th>\n",
       "                        <td id=\"T_5b850_row1_col0\" class=\"data row1 col0\" >True</td>\n",
       "            </tr>\n",
       "            <tr>\n",
       "                        <th id=\"T_5b850_level0_row2\" class=\"row_heading level0 row2\" >javielpapi</th>\n",
       "                        <td id=\"T_5b850_row2_col0\" class=\"data row2 col0\" >True</td>\n",
       "            </tr>\n",
       "            <tr>\n",
       "                        <th id=\"T_5b850_level0_row3\" class=\"row_heading level0 row3\" >Darile</th>\n",
       "                        <td id=\"T_5b850_row3_col0\" class=\"data row3 col0\" >False</td>\n",
       "            </tr>\n",
       "            <tr>\n",
       "                        <th id=\"T_5b850_level0_row4\" class=\"row_heading level0 row4\" >julistary</th>\n",
       "                        <td id=\"T_5b850_row4_col0\" class=\"data row4 col0\" >True</td>\n",
       "            </tr>\n",
       "            <tr>\n",
       "                        <th id=\"T_5b850_level0_row5\" class=\"row_heading level0 row5\" >CristinaC</th>\n",
       "                        <td id=\"T_5b850_row5_col0\" class=\"data row5 col0\" >True</td>\n",
       "            </tr>\n",
       "            <tr>\n",
       "                        <th id=\"T_5b850_level0_row6\" class=\"row_heading level0 row6\" >Unaiat</th>\n",
       "                        <td id=\"T_5b850_row6_col0\" class=\"data row6 col0\" >True</td>\n",
       "            </tr>\n",
       "            <tr>\n",
       "                        <th id=\"T_5b850_level0_row7\" class=\"row_heading level0 row7\" >Marcunu</th>\n",
       "                        <td id=\"T_5b850_row7_col0\" class=\"data row7 col0\" >True</td>\n",
       "            </tr>\n",
       "            <tr>\n",
       "                        <th id=\"T_5b850_level0_row8\" class=\"row_heading level0 row8\" >asiokfd</th>\n",
       "                        <td id=\"T_5b850_row8_col0\" class=\"data row8 col0\" >True</td>\n",
       "            </tr>\n",
       "            <tr>\n",
       "                        <th id=\"T_5b850_level0_row9\" class=\"row_heading level0 row9\" >Albertoplm</th>\n",
       "                        <td id=\"T_5b850_row9_col0\" class=\"data row9 col0\" >True</td>\n",
       "            </tr>\n",
       "            <tr>\n",
       "                        <th id=\"T_5b850_level0_row10\" class=\"row_heading level0 row10\" >pablofdezc</th>\n",
       "                        <td id=\"T_5b850_row10_col0\" class=\"data row10 col0\" >True</td>\n",
       "            </tr>\n",
       "            <tr>\n",
       "                        <th id=\"T_5b850_level0_row11\" class=\"row_heading level0 row11\" >Antoniopita95</th>\n",
       "                        <td id=\"T_5b850_row11_col0\" class=\"data row11 col0\" >True</td>\n",
       "            </tr>\n",
       "            <tr>\n",
       "                        <th id=\"T_5b850_level0_row12\" class=\"row_heading level0 row12\" >as-Solo</th>\n",
       "                        <td id=\"T_5b850_row12_col0\" class=\"data row12 col0\" >True</td>\n",
       "            </tr>\n",
       "            <tr>\n",
       "                        <th id=\"T_5b850_level0_row13\" class=\"row_heading level0 row13\" >PabloFR</th>\n",
       "                        <td id=\"T_5b850_row13_col0\" class=\"data row13 col0\" >False</td>\n",
       "            </tr>\n",
       "            <tr>\n",
       "                        <th id=\"T_5b850_level0_row14\" class=\"row_heading level0 row14\" >Carmen-r</th>\n",
       "                        <td id=\"T_5b850_row14_col0\" class=\"data row14 col0\" >False</td>\n",
       "            </tr>\n",
       "            <tr>\n",
       "                        <th id=\"T_5b850_level0_row15\" class=\"row_heading level0 row15\" >susanamartin</th>\n",
       "                        <td id=\"T_5b850_row15_col0\" class=\"data row15 col0\" >False</td>\n",
       "            </tr>\n",
       "            <tr>\n",
       "                        <th id=\"T_5b850_level0_row16\" class=\"row_heading level0 row16\" >EduMartinezGarrido</th>\n",
       "                        <td id=\"T_5b850_row16_col0\" class=\"data row16 col0\" >True</td>\n",
       "            </tr>\n",
       "            <tr>\n",
       "                        <th id=\"T_5b850_level0_row17\" class=\"row_heading level0 row17\" >manuleon87</th>\n",
       "                        <td id=\"T_5b850_row17_col0\" class=\"data row17 col0\" >True</td>\n",
       "            </tr>\n",
       "            <tr>\n",
       "                        <th id=\"T_5b850_level0_row18\" class=\"row_heading level0 row18\" >Bertrangsf</th>\n",
       "                        <td id=\"T_5b850_row18_col0\" class=\"data row18 col0\" >True</td>\n",
       "            </tr>\n",
       "    </tbody></table>"
      ],
      "text/plain": [
       "<pandas.io.formats.style.Styler at 0x7fca77764880>"
      ]
     },
     "metadata": {},
     "output_type": "display_data"
    }
   ],
   "source": [
    "#drumroll = pygame.mixer.Sound('drumroll.wav')\n",
    "#drumroll.play()\n",
    "\n",
    "def main(): \n",
    "    df_students, df_katas = adquire()    \n",
    "    df_students, df_katas = cleaning(df_students, df_katas)\n",
    "    df,hora= create_df_checking(df_students, df_katas)    \n",
    "    outputs(df,False)\n",
    "    return df\n",
    "\n",
    "\n",
    "if __name__ == '__main__':\n",
    "    df = main()"
   ]
  },
  {
   "cell_type": "markdown",
   "metadata": {},
   "source": [
    "Alberto Pérez,asiokfd\n",
    "Alberto Pérez Lescure,Albertoplm\n",
    "Pablo Fernández,pablofdezc\n",
    "Antonio Pita,Antoniopita95\n",
    "Alejandro Solo,as-Solo\n",
    "Pablo Fernández Romero,PabloFR\n",
    "Carmen Rodríguez,Carmen-r\n",
    "Susana Martín,susanamartin\n",
    "Eduarfo Martínez,EduMartinezGarrido"
   ]
  },
  {
   "cell_type": "code",
   "execution_count": null,
   "metadata": {},
   "outputs": [],
   "source": []
  }
 ],
 "metadata": {
  "kernelspec": {
   "display_name": "ironhack0121",
   "language": "python",
   "name": "ironhack0121"
  },
  "language_info": {
   "codemirror_mode": {
    "name": "ipython",
    "version": 3
   },
   "file_extension": ".py",
   "mimetype": "text/x-python",
   "name": "python",
   "nbconvert_exporter": "python",
   "pygments_lexer": "ipython3",
   "version": "3.8.5"
  },
  "toc": {
   "base_numbering": 1,
   "nav_menu": {},
   "number_sections": true,
   "sideBar": true,
   "skip_h1_title": false,
   "title_cell": "Table of Contents",
   "title_sidebar": "Contents",
   "toc_cell": false,
   "toc_position": {},
   "toc_section_display": true,
   "toc_window_display": false
  }
 },
 "nbformat": 4,
 "nbformat_minor": 2
}
