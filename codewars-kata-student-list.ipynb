{
 "cells": [
  {
   "cell_type": "code",
   "execution_count": 1,
   "metadata": {},
   "outputs": [],
   "source": [
    "from modules import adquire, cleaning, create_df_checking, outputs\n",
    "from numpy.random import choice\n",
    "from time import sleep\n",
    "#import pygame\n",
    "#pygame.mixer.init()"
   ]
  },
  {
   "cell_type": "code",
   "execution_count": 2,
   "metadata": {},
   "outputs": [
    {
     "name": "stdout",
     "output_type": "stream",
     "text": [
      "ccastroblua presentará la kata 80-s-kids-number-2-help-alf-find-his-spaceship\n"
     ]
    },
    {
     "data": {
      "text/html": [
       "<style  type=\"text/css\" >\n",
       "#T_71ee9394_de60_11eb_a479_48a472562cebrow0_col0,#T_71ee9394_de60_11eb_a479_48a472562cebrow0_col1,#T_71ee9394_de60_11eb_a479_48a472562cebrow1_col0,#T_71ee9394_de60_11eb_a479_48a472562cebrow1_col1,#T_71ee9394_de60_11eb_a479_48a472562cebrow2_col1,#T_71ee9394_de60_11eb_a479_48a472562cebrow4_col0,#T_71ee9394_de60_11eb_a479_48a472562cebrow4_col1,#T_71ee9394_de60_11eb_a479_48a472562cebrow5_col0,#T_71ee9394_de60_11eb_a479_48a472562cebrow5_col1{\n",
       "            color:  red;\n",
       "        }#T_71ee9394_de60_11eb_a479_48a472562cebrow2_col0,#T_71ee9394_de60_11eb_a479_48a472562cebrow3_col0,#T_71ee9394_de60_11eb_a479_48a472562cebrow3_col1{\n",
       "            color:  green;\n",
       "        }</style><table id=\"T_71ee9394_de60_11eb_a479_48a472562ceb\" ><thead>    <tr>        <th class=\"index_name level0\" >slug</th>        <th class=\"col_heading level0 col0\" >see-you-next-happy-year</th>        <th class=\"col_heading level0 col1\" >80-s-kids-number-2-help-alf-find-his-spaceship</th>    </tr>    <tr>        <th class=\"index_name level0\" >username</th>        <th class=\"blank\" ></th>        <th class=\"blank\" ></th>    </tr></thead><tbody>\n",
       "                <tr>\n",
       "                        <th id=\"T_71ee9394_de60_11eb_a479_48a472562ceblevel0_row0\" class=\"row_heading level0 row0\" >Vicrgallardon</th>\n",
       "                        <td id=\"T_71ee9394_de60_11eb_a479_48a472562cebrow0_col0\" class=\"data row0 col0\" >False</td>\n",
       "                        <td id=\"T_71ee9394_de60_11eb_a479_48a472562cebrow0_col1\" class=\"data row0 col1\" >False</td>\n",
       "            </tr>\n",
       "            <tr>\n",
       "                        <th id=\"T_71ee9394_de60_11eb_a479_48a472562ceblevel0_row1\" class=\"row_heading level0 row1\" >Santimoreno89</th>\n",
       "                        <td id=\"T_71ee9394_de60_11eb_a479_48a472562cebrow1_col0\" class=\"data row1 col0\" >False</td>\n",
       "                        <td id=\"T_71ee9394_de60_11eb_a479_48a472562cebrow1_col1\" class=\"data row1 col1\" >False</td>\n",
       "            </tr>\n",
       "            <tr>\n",
       "                        <th id=\"T_71ee9394_de60_11eb_a479_48a472562ceblevel0_row2\" class=\"row_heading level0 row2\" >olaya-marques</th>\n",
       "                        <td id=\"T_71ee9394_de60_11eb_a479_48a472562cebrow2_col0\" class=\"data row2 col0\" >True</td>\n",
       "                        <td id=\"T_71ee9394_de60_11eb_a479_48a472562cebrow2_col1\" class=\"data row2 col1\" >False</td>\n",
       "            </tr>\n",
       "            <tr>\n",
       "                        <th id=\"T_71ee9394_de60_11eb_a479_48a472562ceblevel0_row3\" class=\"row_heading level0 row3\" >ccastroblua</th>\n",
       "                        <td id=\"T_71ee9394_de60_11eb_a479_48a472562cebrow3_col0\" class=\"data row3 col0\" >True</td>\n",
       "                        <td id=\"T_71ee9394_de60_11eb_a479_48a472562cebrow3_col1\" class=\"data row3 col1\" >True</td>\n",
       "            </tr>\n",
       "            <tr>\n",
       "                        <th id=\"T_71ee9394_de60_11eb_a479_48a472562ceblevel0_row4\" class=\"row_heading level0 row4\" >borja Cañada</th>\n",
       "                        <td id=\"T_71ee9394_de60_11eb_a479_48a472562cebrow4_col0\" class=\"data row4 col0\" >False</td>\n",
       "                        <td id=\"T_71ee9394_de60_11eb_a479_48a472562cebrow4_col1\" class=\"data row4 col1\" >False</td>\n",
       "            </tr>\n",
       "            <tr>\n",
       "                        <th id=\"T_71ee9394_de60_11eb_a479_48a472562ceblevel0_row5\" class=\"row_heading level0 row5\" >alvarogb1919</th>\n",
       "                        <td id=\"T_71ee9394_de60_11eb_a479_48a472562cebrow5_col0\" class=\"data row5 col0\" >False</td>\n",
       "                        <td id=\"T_71ee9394_de60_11eb_a479_48a472562cebrow5_col1\" class=\"data row5 col1\" >False</td>\n",
       "            </tr>\n",
       "    </tbody></table>"
      ],
      "text/plain": [
       "<pandas.io.formats.style.Styler at 0x7f68e76eafa0>"
      ]
     },
     "metadata": {},
     "output_type": "display_data"
    }
   ],
   "source": [
    "#drumroll = pygame.mixer.Sound('drumroll.wav')\n",
    "#drumroll.play()\n",
    "\n",
    "def main(): \n",
    "    df_students, df_katas = adquire()    \n",
    "    df_students, df_katas = cleaning(df_students, df_katas)\n",
    "    df,hora = create_df_checking(df_students, df_katas)\n",
    "    outputs(df,False)\n",
    "    return df\n",
    "\n",
    "\n",
    "if __name__ == '__main__':\n",
    "    df = main()"
   ]
  },
  {
   "cell_type": "code",
   "execution_count": null,
   "metadata": {},
   "outputs": [],
   "source": []
  }
 ],
 "metadata": {
  "kernelspec": {
   "display_name": "Python 3",
   "language": "python",
   "name": "python3"
  },
  "language_info": {
   "codemirror_mode": {
    "name": "ipython",
    "version": 3
   },
   "file_extension": ".py",
   "mimetype": "text/x-python",
   "name": "python",
   "nbconvert_exporter": "python",
   "pygments_lexer": "ipython3",
   "version": "3.8.5"
  },
  "toc": {
   "base_numbering": 1,
   "nav_menu": {},
   "number_sections": true,
   "sideBar": true,
   "skip_h1_title": false,
   "title_cell": "Table of Contents",
   "title_sidebar": "Contents",
   "toc_cell": false,
   "toc_position": {},
   "toc_section_display": true,
   "toc_window_display": false
  },
  "varInspector": {
   "cols": {
    "lenName": 16,
    "lenType": 16,
    "lenVar": 40
   },
   "kernels_config": {
    "python": {
     "delete_cmd_postfix": "",
     "delete_cmd_prefix": "del ",
     "library": "var_list.py",
     "varRefreshCmd": "print(var_dic_list())"
    },
    "r": {
     "delete_cmd_postfix": ") ",
     "delete_cmd_prefix": "rm(",
     "library": "var_list.r",
     "varRefreshCmd": "cat(var_dic_list()) "
    }
   },
   "types_to_exclude": [
    "module",
    "function",
    "builtin_function_or_method",
    "instance",
    "_Feature"
   ],
   "window_display": false
  }
 },
 "nbformat": 4,
 "nbformat_minor": 2
}
