{
 "cells": [
  {
   "cell_type": "code",
   "execution_count": 8,
   "metadata": {},
   "outputs": [],
   "source": [
    "from modules import adquire, cleaning, create_df_checking, outputs\n",
    "from numpy.random import choice\n",
    "from time import sleep\n",
    "import pygame\n",
    "pygame.mixer.init()"
   ]
  },
  {
   "cell_type": "code",
   "execution_count": 9,
   "metadata": {},
   "outputs": [
    {
     "name": "stdout",
     "output_type": "stream",
     "text": [
      "antoniogarciagiron presentará la kata 80-s-kids-number-2-help-alf-find-his-spaceship\n"
     ]
    },
    {
     "data": {
      "text/html": [
       "<style  type=\"text/css\" >\n",
       "#T_d6ff778a_6c78_11eb_82f0_9801a799adcdrow0_col0,#T_d6ff778a_6c78_11eb_82f0_9801a799adcdrow0_col1,#T_d6ff778a_6c78_11eb_82f0_9801a799adcdrow2_col0,#T_d6ff778a_6c78_11eb_82f0_9801a799adcdrow2_col1,#T_d6ff778a_6c78_11eb_82f0_9801a799adcdrow3_col0,#T_d6ff778a_6c78_11eb_82f0_9801a799adcdrow3_col1,#T_d6ff778a_6c78_11eb_82f0_9801a799adcdrow4_col0,#T_d6ff778a_6c78_11eb_82f0_9801a799adcdrow4_col1,#T_d6ff778a_6c78_11eb_82f0_9801a799adcdrow6_col0,#T_d6ff778a_6c78_11eb_82f0_9801a799adcdrow6_col1,#T_d6ff778a_6c78_11eb_82f0_9801a799adcdrow7_col0,#T_d6ff778a_6c78_11eb_82f0_9801a799adcdrow7_col1,#T_d6ff778a_6c78_11eb_82f0_9801a799adcdrow8_col0,#T_d6ff778a_6c78_11eb_82f0_9801a799adcdrow8_col1,#T_d6ff778a_6c78_11eb_82f0_9801a799adcdrow9_col0,#T_d6ff778a_6c78_11eb_82f0_9801a799adcdrow9_col1,#T_d6ff778a_6c78_11eb_82f0_9801a799adcdrow10_col0,#T_d6ff778a_6c78_11eb_82f0_9801a799adcdrow10_col1,#T_d6ff778a_6c78_11eb_82f0_9801a799adcdrow11_col0,#T_d6ff778a_6c78_11eb_82f0_9801a799adcdrow11_col1,#T_d6ff778a_6c78_11eb_82f0_9801a799adcdrow13_col0,#T_d6ff778a_6c78_11eb_82f0_9801a799adcdrow13_col1,#T_d6ff778a_6c78_11eb_82f0_9801a799adcdrow14_col0,#T_d6ff778a_6c78_11eb_82f0_9801a799adcdrow14_col1,#T_d6ff778a_6c78_11eb_82f0_9801a799adcdrow15_col1,#T_d6ff778a_6c78_11eb_82f0_9801a799adcdrow16_col0,#T_d6ff778a_6c78_11eb_82f0_9801a799adcdrow16_col1,#T_d6ff778a_6c78_11eb_82f0_9801a799adcdrow17_col0,#T_d6ff778a_6c78_11eb_82f0_9801a799adcdrow17_col1{\n",
       "            color:  red;\n",
       "        }#T_d6ff778a_6c78_11eb_82f0_9801a799adcdrow1_col0,#T_d6ff778a_6c78_11eb_82f0_9801a799adcdrow1_col1,#T_d6ff778a_6c78_11eb_82f0_9801a799adcdrow5_col0,#T_d6ff778a_6c78_11eb_82f0_9801a799adcdrow5_col1,#T_d6ff778a_6c78_11eb_82f0_9801a799adcdrow12_col0,#T_d6ff778a_6c78_11eb_82f0_9801a799adcdrow12_col1,#T_d6ff778a_6c78_11eb_82f0_9801a799adcdrow15_col0{\n",
       "            color:  green;\n",
       "        }</style><table id=\"T_d6ff778a_6c78_11eb_82f0_9801a799adcd\" ><thead>    <tr>        <th class=\"index_name level0\" >slug</th>        <th class=\"col_heading level0 col0\" >see-you-next-happy-year</th>        <th class=\"col_heading level0 col1\" >80-s-kids-number-2-help-alf-find-his-spaceship</th>    </tr>    <tr>        <th class=\"index_name level0\" >username</th>        <th class=\"blank\" ></th>        <th class=\"blank\" ></th>    </tr></thead><tbody>\n",
       "                <tr>\n",
       "                        <th id=\"T_d6ff778a_6c78_11eb_82f0_9801a799adcdlevel0_row0\" class=\"row_heading level0 row0\" >amorenorp</th>\n",
       "                        <td id=\"T_d6ff778a_6c78_11eb_82f0_9801a799adcdrow0_col0\" class=\"data row0 col0\" >False</td>\n",
       "                        <td id=\"T_d6ff778a_6c78_11eb_82f0_9801a799adcdrow0_col1\" class=\"data row0 col1\" >False</td>\n",
       "            </tr>\n",
       "            <tr>\n",
       "                        <th id=\"T_d6ff778a_6c78_11eb_82f0_9801a799adcdlevel0_row1\" class=\"row_heading level0 row1\" >alfredozavala14</th>\n",
       "                        <td id=\"T_d6ff778a_6c78_11eb_82f0_9801a799adcdrow1_col0\" class=\"data row1 col0\" >True</td>\n",
       "                        <td id=\"T_d6ff778a_6c78_11eb_82f0_9801a799adcdrow1_col1\" class=\"data row1 col1\" >True</td>\n",
       "            </tr>\n",
       "            <tr>\n",
       "                        <th id=\"T_d6ff778a_6c78_11eb_82f0_9801a799adcdlevel0_row2\" class=\"row_heading level0 row2\" >anadeluna</th>\n",
       "                        <td id=\"T_d6ff778a_6c78_11eb_82f0_9801a799adcdrow2_col0\" class=\"data row2 col0\" >False</td>\n",
       "                        <td id=\"T_d6ff778a_6c78_11eb_82f0_9801a799adcdrow2_col1\" class=\"data row2 col1\" >False</td>\n",
       "            </tr>\n",
       "            <tr>\n",
       "                        <th id=\"T_d6ff778a_6c78_11eb_82f0_9801a799adcdlevel0_row3\" class=\"row_heading level0 row3\" >AnaAGG</th>\n",
       "                        <td id=\"T_d6ff778a_6c78_11eb_82f0_9801a799adcdrow3_col0\" class=\"data row3 col0\" >False</td>\n",
       "                        <td id=\"T_d6ff778a_6c78_11eb_82f0_9801a799adcdrow3_col1\" class=\"data row3 col1\" >False</td>\n",
       "            </tr>\n",
       "            <tr>\n",
       "                        <th id=\"T_d6ff778a_6c78_11eb_82f0_9801a799adcdlevel0_row4\" class=\"row_heading level0 row4\" >angelanavarro</th>\n",
       "                        <td id=\"T_d6ff778a_6c78_11eb_82f0_9801a799adcdrow4_col0\" class=\"data row4 col0\" >False</td>\n",
       "                        <td id=\"T_d6ff778a_6c78_11eb_82f0_9801a799adcdrow4_col1\" class=\"data row4 col1\" >False</td>\n",
       "            </tr>\n",
       "            <tr>\n",
       "                        <th id=\"T_d6ff778a_6c78_11eb_82f0_9801a799adcdlevel0_row5\" class=\"row_heading level0 row5\" >antoniogarciagiron</th>\n",
       "                        <td id=\"T_d6ff778a_6c78_11eb_82f0_9801a799adcdrow5_col0\" class=\"data row5 col0\" >True</td>\n",
       "                        <td id=\"T_d6ff778a_6c78_11eb_82f0_9801a799adcdrow5_col1\" class=\"data row5 col1\" >True</td>\n",
       "            </tr>\n",
       "            <tr>\n",
       "                        <th id=\"T_d6ff778a_6c78_11eb_82f0_9801a799adcdlevel0_row6\" class=\"row_heading level0 row6\" >xarlomi</th>\n",
       "                        <td id=\"T_d6ff778a_6c78_11eb_82f0_9801a799adcdrow6_col0\" class=\"data row6 col0\" >False</td>\n",
       "                        <td id=\"T_d6ff778a_6c78_11eb_82f0_9801a799adcdrow6_col1\" class=\"data row6 col1\" >False</td>\n",
       "            </tr>\n",
       "            <tr>\n",
       "                        <th id=\"T_d6ff778a_6c78_11eb_82f0_9801a799adcdlevel0_row7\" class=\"row_heading level0 row7\" >CristinaCallejo</th>\n",
       "                        <td id=\"T_d6ff778a_6c78_11eb_82f0_9801a799adcdrow7_col0\" class=\"data row7 col0\" >False</td>\n",
       "                        <td id=\"T_d6ff778a_6c78_11eb_82f0_9801a799adcdrow7_col1\" class=\"data row7 col1\" >False</td>\n",
       "            </tr>\n",
       "            <tr>\n",
       "                        <th id=\"T_d6ff778a_6c78_11eb_82f0_9801a799adcdlevel0_row8\" class=\"row_heading level0 row8\" >Florengutierrez</th>\n",
       "                        <td id=\"T_d6ff778a_6c78_11eb_82f0_9801a799adcdrow8_col0\" class=\"data row8 col0\" >False</td>\n",
       "                        <td id=\"T_d6ff778a_6c78_11eb_82f0_9801a799adcdrow8_col1\" class=\"data row8 col1\" >False</td>\n",
       "            </tr>\n",
       "            <tr>\n",
       "                        <th id=\"T_d6ff778a_6c78_11eb_82f0_9801a799adcdlevel0_row9\" class=\"row_heading level0 row9\" >yamadajc</th>\n",
       "                        <td id=\"T_d6ff778a_6c78_11eb_82f0_9801a799adcdrow9_col0\" class=\"data row9 col0\" >False</td>\n",
       "                        <td id=\"T_d6ff778a_6c78_11eb_82f0_9801a799adcdrow9_col1\" class=\"data row9 col1\" >False</td>\n",
       "            </tr>\n",
       "            <tr>\n",
       "                        <th id=\"T_d6ff778a_6c78_11eb_82f0_9801a799adcdlevel0_row10\" class=\"row_heading level0 row10\" >Trivino</th>\n",
       "                        <td id=\"T_d6ff778a_6c78_11eb_82f0_9801a799adcdrow10_col0\" class=\"data row10 col0\" >False</td>\n",
       "                        <td id=\"T_d6ff778a_6c78_11eb_82f0_9801a799adcdrow10_col1\" class=\"data row10 col1\" >False</td>\n",
       "            </tr>\n",
       "            <tr>\n",
       "                        <th id=\"T_d6ff778a_6c78_11eb_82f0_9801a799adcdlevel0_row11\" class=\"row_heading level0 row11\" >MARINADIEZS</th>\n",
       "                        <td id=\"T_d6ff778a_6c78_11eb_82f0_9801a799adcdrow11_col0\" class=\"data row11 col0\" >False</td>\n",
       "                        <td id=\"T_d6ff778a_6c78_11eb_82f0_9801a799adcdrow11_col1\" class=\"data row11 col1\" >False</td>\n",
       "            </tr>\n",
       "            <tr>\n",
       "                        <th id=\"T_d6ff778a_6c78_11eb_82f0_9801a799adcdlevel0_row12\" class=\"row_heading level0 row12\" >mgarciabruzon</th>\n",
       "                        <td id=\"T_d6ff778a_6c78_11eb_82f0_9801a799adcdrow12_col0\" class=\"data row12 col0\" >True</td>\n",
       "                        <td id=\"T_d6ff778a_6c78_11eb_82f0_9801a799adcdrow12_col1\" class=\"data row12 col1\" >True</td>\n",
       "            </tr>\n",
       "            <tr>\n",
       "                        <th id=\"T_d6ff778a_6c78_11eb_82f0_9801a799adcdlevel0_row13\" class=\"row_heading level0 row13\" >paolakarina</th>\n",
       "                        <td id=\"T_d6ff778a_6c78_11eb_82f0_9801a799adcdrow13_col0\" class=\"data row13 col0\" >False</td>\n",
       "                        <td id=\"T_d6ff778a_6c78_11eb_82f0_9801a799adcdrow13_col1\" class=\"data row13 col1\" >False</td>\n",
       "            </tr>\n",
       "            <tr>\n",
       "                        <th id=\"T_d6ff778a_6c78_11eb_82f0_9801a799adcdlevel0_row14\" class=\"row_heading level0 row14\" >sant_hart97</th>\n",
       "                        <td id=\"T_d6ff778a_6c78_11eb_82f0_9801a799adcdrow14_col0\" class=\"data row14 col0\" >False</td>\n",
       "                        <td id=\"T_d6ff778a_6c78_11eb_82f0_9801a799adcdrow14_col1\" class=\"data row14 col1\" >False</td>\n",
       "            </tr>\n",
       "            <tr>\n",
       "                        <th id=\"T_d6ff778a_6c78_11eb_82f0_9801a799adcdlevel0_row15\" class=\"row_heading level0 row15\" >sergio calero</th>\n",
       "                        <td id=\"T_d6ff778a_6c78_11eb_82f0_9801a799adcdrow15_col0\" class=\"data row15 col0\" >True</td>\n",
       "                        <td id=\"T_d6ff778a_6c78_11eb_82f0_9801a799adcdrow15_col1\" class=\"data row15 col1\" >False</td>\n",
       "            </tr>\n",
       "            <tr>\n",
       "                        <th id=\"T_d6ff778a_6c78_11eb_82f0_9801a799adcdlevel0_row16\" class=\"row_heading level0 row16\" >SoniaFomi</th>\n",
       "                        <td id=\"T_d6ff778a_6c78_11eb_82f0_9801a799adcdrow16_col0\" class=\"data row16 col0\" >False</td>\n",
       "                        <td id=\"T_d6ff778a_6c78_11eb_82f0_9801a799adcdrow16_col1\" class=\"data row16 col1\" >False</td>\n",
       "            </tr>\n",
       "            <tr>\n",
       "                        <th id=\"T_d6ff778a_6c78_11eb_82f0_9801a799adcdlevel0_row17\" class=\"row_heading level0 row17\" >XabierArrieta</th>\n",
       "                        <td id=\"T_d6ff778a_6c78_11eb_82f0_9801a799adcdrow17_col0\" class=\"data row17 col0\" >False</td>\n",
       "                        <td id=\"T_d6ff778a_6c78_11eb_82f0_9801a799adcdrow17_col1\" class=\"data row17 col1\" >False</td>\n",
       "            </tr>\n",
       "    </tbody></table>"
      ],
      "text/plain": [
       "<pandas.io.formats.style.Styler at 0x11da7b8d0>"
      ]
     },
     "metadata": {},
     "output_type": "display_data"
    }
   ],
   "source": [
    "#drumroll = pygame.mixer.Sound('drumroll.wav')\n",
    "#drumroll.play()\n",
    "\n",
    "def main(): \n",
    "    df_students, df_katas = adquire()    \n",
    "    df_students, df_katas = cleaning(df_students, df_katas)\n",
    "    df,hora= create_df_checking(df_students, df_katas)    \n",
    "    outputs(df,False)\n",
    "    return df\n",
    "\n",
    "\n",
    "if __name__ == '__main__':\n",
    "    df = main()"
   ]
  },
  {
   "cell_type": "code",
   "execution_count": null,
   "metadata": {},
   "outputs": [],
   "source": []
  }
 ],
 "metadata": {
  "kernelspec": {
   "display_name": "Python 3",
   "language": "python",
   "name": "python3"
  },
  "language_info": {
   "codemirror_mode": {
    "name": "ipython",
    "version": 3
   },
   "file_extension": ".py",
   "mimetype": "text/x-python",
   "name": "python",
   "nbconvert_exporter": "python",
   "pygments_lexer": "ipython3",
   "version": "3.7.7"
  },
  "toc": {
   "base_numbering": 1,
   "nav_menu": {},
   "number_sections": true,
   "sideBar": true,
   "skip_h1_title": false,
   "title_cell": "Table of Contents",
   "title_sidebar": "Contents",
   "toc_cell": false,
   "toc_position": {},
   "toc_section_display": true,
   "toc_window_display": false
  }
 },
 "nbformat": 4,
 "nbformat_minor": 2
}
