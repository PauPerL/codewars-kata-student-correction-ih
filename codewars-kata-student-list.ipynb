{
 "cells": [
  {
   "cell_type": "code",
   "execution_count": 1,
   "metadata": {},
   "outputs": [],
   "source": [
    "from modules import adquire, cleaning, create_df_checking, outputs\n",
    "from numpy.random import choice\n",
    "from time import sleep\n",
    "#import pygame\n",
    "#pygame.mixer.init()"
   ]
  },
  {
   "cell_type": "code",
   "execution_count": 2,
   "metadata": {
    "scrolled": false
   },
   "outputs": [
    {
     "name": "stdout",
     "output_type": "stream",
     "text": [
      "Nadie presentará la kata sorting-by-bits\n"
     ]
    },
    {
     "data": {
      "text/html": [
       "<style  type=\"text/css\" >\n",
       "#T_efa3a_row0_col0,#T_efa3a_row1_col0,#T_efa3a_row2_col0,#T_efa3a_row3_col0,#T_efa3a_row4_col0,#T_efa3a_row5_col0,#T_efa3a_row6_col0,#T_efa3a_row7_col0,#T_efa3a_row8_col0,#T_efa3a_row10_col0,#T_efa3a_row12_col0,#T_efa3a_row15_col0{\n",
       "            color:  green;\n",
       "        }#T_efa3a_row0_col1,#T_efa3a_row1_col1,#T_efa3a_row2_col1,#T_efa3a_row3_col1,#T_efa3a_row4_col1,#T_efa3a_row5_col1,#T_efa3a_row6_col1,#T_efa3a_row7_col1,#T_efa3a_row8_col1,#T_efa3a_row9_col0,#T_efa3a_row9_col1,#T_efa3a_row10_col1,#T_efa3a_row11_col0,#T_efa3a_row11_col1,#T_efa3a_row12_col1,#T_efa3a_row13_col0,#T_efa3a_row13_col1,#T_efa3a_row14_col0,#T_efa3a_row14_col1,#T_efa3a_row15_col1,#T_efa3a_row16_col0,#T_efa3a_row16_col1,#T_efa3a_row17_col0,#T_efa3a_row17_col1,#T_efa3a_row18_col0,#T_efa3a_row18_col1,#T_efa3a_row19_col0,#T_efa3a_row19_col1{\n",
       "            color:  red;\n",
       "        }</style><table id=\"T_efa3a_\" ><thead>    <tr>        <th class=\"index_name level0\" >slug</th>        <th class=\"col_heading level0 col0\" >pete-the-baker</th>        <th class=\"col_heading level0 col1\" >sorting-by-bits</th>    </tr>    <tr>        <th class=\"index_name level0\" >username</th>        <th class=\"blank\" ></th>        <th class=\"blank\" ></th>    </tr></thead><tbody>\n",
       "                <tr>\n",
       "                        <th id=\"T_efa3a_level0_row0\" class=\"row_heading level0 row0\" >FranLRamos</th>\n",
       "                        <td id=\"T_efa3a_row0_col0\" class=\"data row0 col0\" >True</td>\n",
       "                        <td id=\"T_efa3a_row0_col1\" class=\"data row0 col1\" >False</td>\n",
       "            </tr>\n",
       "            <tr>\n",
       "                        <th id=\"T_efa3a_level0_row1\" class=\"row_heading level0 row1\" >capitanz</th>\n",
       "                        <td id=\"T_efa3a_row1_col0\" class=\"data row1 col0\" >True</td>\n",
       "                        <td id=\"T_efa3a_row1_col1\" class=\"data row1 col1\" >False</td>\n",
       "            </tr>\n",
       "            <tr>\n",
       "                        <th id=\"T_efa3a_level0_row2\" class=\"row_heading level0 row2\" >javielpapi</th>\n",
       "                        <td id=\"T_efa3a_row2_col0\" class=\"data row2 col0\" >True</td>\n",
       "                        <td id=\"T_efa3a_row2_col1\" class=\"data row2 col1\" >False</td>\n",
       "            </tr>\n",
       "            <tr>\n",
       "                        <th id=\"T_efa3a_level0_row3\" class=\"row_heading level0 row3\" >Darile</th>\n",
       "                        <td id=\"T_efa3a_row3_col0\" class=\"data row3 col0\" >True</td>\n",
       "                        <td id=\"T_efa3a_row3_col1\" class=\"data row3 col1\" >False</td>\n",
       "            </tr>\n",
       "            <tr>\n",
       "                        <th id=\"T_efa3a_level0_row4\" class=\"row_heading level0 row4\" >julistary</th>\n",
       "                        <td id=\"T_efa3a_row4_col0\" class=\"data row4 col0\" >True</td>\n",
       "                        <td id=\"T_efa3a_row4_col1\" class=\"data row4 col1\" >False</td>\n",
       "            </tr>\n",
       "            <tr>\n",
       "                        <th id=\"T_efa3a_level0_row5\" class=\"row_heading level0 row5\" >CristinaC</th>\n",
       "                        <td id=\"T_efa3a_row5_col0\" class=\"data row5 col0\" >True</td>\n",
       "                        <td id=\"T_efa3a_row5_col1\" class=\"data row5 col1\" >False</td>\n",
       "            </tr>\n",
       "            <tr>\n",
       "                        <th id=\"T_efa3a_level0_row6\" class=\"row_heading level0 row6\" >Unaiat</th>\n",
       "                        <td id=\"T_efa3a_row6_col0\" class=\"data row6 col0\" >True</td>\n",
       "                        <td id=\"T_efa3a_row6_col1\" class=\"data row6 col1\" >False</td>\n",
       "            </tr>\n",
       "            <tr>\n",
       "                        <th id=\"T_efa3a_level0_row7\" class=\"row_heading level0 row7\" >Marcunu</th>\n",
       "                        <td id=\"T_efa3a_row7_col0\" class=\"data row7 col0\" >True</td>\n",
       "                        <td id=\"T_efa3a_row7_col1\" class=\"data row7 col1\" >False</td>\n",
       "            </tr>\n",
       "            <tr>\n",
       "                        <th id=\"T_efa3a_level0_row8\" class=\"row_heading level0 row8\" >asiokfd</th>\n",
       "                        <td id=\"T_efa3a_row8_col0\" class=\"data row8 col0\" >True</td>\n",
       "                        <td id=\"T_efa3a_row8_col1\" class=\"data row8 col1\" >False</td>\n",
       "            </tr>\n",
       "            <tr>\n",
       "                        <th id=\"T_efa3a_level0_row9\" class=\"row_heading level0 row9\" >Albertoplm</th>\n",
       "                        <td id=\"T_efa3a_row9_col0\" class=\"data row9 col0\" >False</td>\n",
       "                        <td id=\"T_efa3a_row9_col1\" class=\"data row9 col1\" >False</td>\n",
       "            </tr>\n",
       "            <tr>\n",
       "                        <th id=\"T_efa3a_level0_row10\" class=\"row_heading level0 row10\" >pablofdezc</th>\n",
       "                        <td id=\"T_efa3a_row10_col0\" class=\"data row10 col0\" >True</td>\n",
       "                        <td id=\"T_efa3a_row10_col1\" class=\"data row10 col1\" >False</td>\n",
       "            </tr>\n",
       "            <tr>\n",
       "                        <th id=\"T_efa3a_level0_row11\" class=\"row_heading level0 row11\" >Antoniopita95</th>\n",
       "                        <td id=\"T_efa3a_row11_col0\" class=\"data row11 col0\" >False</td>\n",
       "                        <td id=\"T_efa3a_row11_col1\" class=\"data row11 col1\" >False</td>\n",
       "            </tr>\n",
       "            <tr>\n",
       "                        <th id=\"T_efa3a_level0_row12\" class=\"row_heading level0 row12\" >as-Solo</th>\n",
       "                        <td id=\"T_efa3a_row12_col0\" class=\"data row12 col0\" >True</td>\n",
       "                        <td id=\"T_efa3a_row12_col1\" class=\"data row12 col1\" >False</td>\n",
       "            </tr>\n",
       "            <tr>\n",
       "                        <th id=\"T_efa3a_level0_row13\" class=\"row_heading level0 row13\" >PabloFR</th>\n",
       "                        <td id=\"T_efa3a_row13_col0\" class=\"data row13 col0\" >False</td>\n",
       "                        <td id=\"T_efa3a_row13_col1\" class=\"data row13 col1\" >False</td>\n",
       "            </tr>\n",
       "            <tr>\n",
       "                        <th id=\"T_efa3a_level0_row14\" class=\"row_heading level0 row14\" >Carmen-r</th>\n",
       "                        <td id=\"T_efa3a_row14_col0\" class=\"data row14 col0\" >False</td>\n",
       "                        <td id=\"T_efa3a_row14_col1\" class=\"data row14 col1\" >False</td>\n",
       "            </tr>\n",
       "            <tr>\n",
       "                        <th id=\"T_efa3a_level0_row15\" class=\"row_heading level0 row15\" >susanamartin</th>\n",
       "                        <td id=\"T_efa3a_row15_col0\" class=\"data row15 col0\" >True</td>\n",
       "                        <td id=\"T_efa3a_row15_col1\" class=\"data row15 col1\" >False</td>\n",
       "            </tr>\n",
       "            <tr>\n",
       "                        <th id=\"T_efa3a_level0_row16\" class=\"row_heading level0 row16\" >EduMartinezGarrido</th>\n",
       "                        <td id=\"T_efa3a_row16_col0\" class=\"data row16 col0\" >False</td>\n",
       "                        <td id=\"T_efa3a_row16_col1\" class=\"data row16 col1\" >False</td>\n",
       "            </tr>\n",
       "            <tr>\n",
       "                        <th id=\"T_efa3a_level0_row17\" class=\"row_heading level0 row17\" >manuleon87</th>\n",
       "                        <td id=\"T_efa3a_row17_col0\" class=\"data row17 col0\" >False</td>\n",
       "                        <td id=\"T_efa3a_row17_col1\" class=\"data row17 col1\" >False</td>\n",
       "            </tr>\n",
       "            <tr>\n",
       "                        <th id=\"T_efa3a_level0_row18\" class=\"row_heading level0 row18\" >Bertrangsf</th>\n",
       "                        <td id=\"T_efa3a_row18_col0\" class=\"data row18 col0\" >False</td>\n",
       "                        <td id=\"T_efa3a_row18_col1\" class=\"data row18 col1\" >False</td>\n",
       "            </tr>\n",
       "            <tr>\n",
       "                        <th id=\"T_efa3a_level0_row19\" class=\"row_heading level0 row19\" >Trinche10</th>\n",
       "                        <td id=\"T_efa3a_row19_col0\" class=\"data row19 col0\" >False</td>\n",
       "                        <td id=\"T_efa3a_row19_col1\" class=\"data row19 col1\" >False</td>\n",
       "            </tr>\n",
       "    </tbody></table>"
      ],
      "text/plain": [
       "<pandas.io.formats.style.Styler at 0x12111f4c0>"
      ]
     },
     "metadata": {},
     "output_type": "display_data"
    },
    {
     "ename": "ModuleNotFoundError",
     "evalue": "No module named 'openpyxl'",
     "output_type": "error",
     "traceback": [
      "\u001b[0;31m-----------------------------------------------------------------------\u001b[0m",
      "\u001b[0;31mModuleNotFoundError\u001b[0m                   Traceback (most recent call last)",
      "\u001b[0;32m<ipython-input-2-04ea34e14e8f>\u001b[0m in \u001b[0;36m<module>\u001b[0;34m\u001b[0m\n\u001b[1;32m     11\u001b[0m \u001b[0;34m\u001b[0m\u001b[0m\n\u001b[1;32m     12\u001b[0m \u001b[0;32mif\u001b[0m \u001b[0m__name__\u001b[0m \u001b[0;34m==\u001b[0m \u001b[0;34m'__main__'\u001b[0m\u001b[0;34m:\u001b[0m\u001b[0;34m\u001b[0m\u001b[0;34m\u001b[0m\u001b[0m\n\u001b[0;32m---> 13\u001b[0;31m     \u001b[0mdf\u001b[0m \u001b[0;34m=\u001b[0m \u001b[0mmain\u001b[0m\u001b[0;34m(\u001b[0m\u001b[0;34m)\u001b[0m\u001b[0;34m\u001b[0m\u001b[0;34m\u001b[0m\u001b[0m\n\u001b[0m",
      "\u001b[0;32m<ipython-input-2-04ea34e14e8f>\u001b[0m in \u001b[0;36mmain\u001b[0;34m()\u001b[0m\n\u001b[1;32m      6\u001b[0m     \u001b[0mdf_students\u001b[0m\u001b[0;34m,\u001b[0m \u001b[0mdf_katas\u001b[0m \u001b[0;34m=\u001b[0m \u001b[0mcleaning\u001b[0m\u001b[0;34m(\u001b[0m\u001b[0mdf_students\u001b[0m\u001b[0;34m,\u001b[0m \u001b[0mdf_katas\u001b[0m\u001b[0;34m)\u001b[0m\u001b[0;34m\u001b[0m\u001b[0;34m\u001b[0m\u001b[0m\n\u001b[1;32m      7\u001b[0m     \u001b[0mdf\u001b[0m\u001b[0;34m,\u001b[0m\u001b[0mhora\u001b[0m\u001b[0;34m=\u001b[0m \u001b[0mcreate_df_checking\u001b[0m\u001b[0;34m(\u001b[0m\u001b[0mdf_students\u001b[0m\u001b[0;34m,\u001b[0m \u001b[0mdf_katas\u001b[0m\u001b[0;34m)\u001b[0m\u001b[0;34m\u001b[0m\u001b[0;34m\u001b[0m\u001b[0m\n\u001b[0;32m----> 8\u001b[0;31m     \u001b[0moutputs\u001b[0m\u001b[0;34m(\u001b[0m\u001b[0mdf\u001b[0m\u001b[0;34m,\u001b[0m\u001b[0;32mFalse\u001b[0m\u001b[0;34m)\u001b[0m\u001b[0;34m\u001b[0m\u001b[0;34m\u001b[0m\u001b[0m\n\u001b[0m\u001b[1;32m      9\u001b[0m     \u001b[0;32mreturn\u001b[0m \u001b[0mdf\u001b[0m\u001b[0;34m\u001b[0m\u001b[0;34m\u001b[0m\u001b[0m\n\u001b[1;32m     10\u001b[0m \u001b[0;34m\u001b[0m\u001b[0m\n",
      "\u001b[0;32m~/GITHUB/TADATA-ruleta-katas-etc/codewars-kata-student-correction-ih/modules/outputs_functions.py\u001b[0m in \u001b[0;36moutputs\u001b[0;34m(df, all)\u001b[0m\n\u001b[1;32m     35\u001b[0m     \u001b[0mdisplay_presenter_last_kata\u001b[0m\u001b[0;34m(\u001b[0m\u001b[0mdf\u001b[0m\u001b[0;34m)\u001b[0m\u001b[0;34m\u001b[0m\u001b[0;34m\u001b[0m\u001b[0m\n\u001b[1;32m     36\u001b[0m     \u001b[0mdisplay_with_colors\u001b[0m\u001b[0;34m(\u001b[0m\u001b[0mdf\u001b[0m\u001b[0;34m,\u001b[0m \u001b[0mall\u001b[0m\u001b[0;34m)\u001b[0m\u001b[0;34m\u001b[0m\u001b[0;34m\u001b[0m\u001b[0m\n\u001b[0;32m---> 37\u001b[0;31m     \u001b[0msave_results\u001b[0m\u001b[0;34m(\u001b[0m\u001b[0mdf\u001b[0m\u001b[0;34m)\u001b[0m\u001b[0;34m\u001b[0m\u001b[0;34m\u001b[0m\u001b[0m\n\u001b[0m",
      "\u001b[0;32m~/GITHUB/TADATA-ruleta-katas-etc/codewars-kata-student-correction-ih/modules/outputs_functions.py\u001b[0m in \u001b[0;36msave_results\u001b[0;34m(df, folder)\u001b[0m\n\u001b[1;32m     10\u001b[0m     \u001b[0mdf\u001b[0m\u001b[0;34m=\u001b[0m\u001b[0mdf\u001b[0m\u001b[0;34m.\u001b[0m\u001b[0mreplace\u001b[0m\u001b[0;34m(\u001b[0m\u001b[0;36m1\u001b[0m\u001b[0;34m,\u001b[0m \u001b[0;34m'Good'\u001b[0m\u001b[0;34m)\u001b[0m\u001b[0;34m\u001b[0m\u001b[0;34m\u001b[0m\u001b[0m\n\u001b[1;32m     11\u001b[0m     \u001b[0mdf\u001b[0m\u001b[0;34m=\u001b[0m\u001b[0mdf\u001b[0m\u001b[0;34m.\u001b[0m\u001b[0mreplace\u001b[0m\u001b[0;34m(\u001b[0m\u001b[0;36m0\u001b[0m\u001b[0;34m,\u001b[0m \u001b[0;34m'No'\u001b[0m\u001b[0;34m)\u001b[0m\u001b[0;34m\u001b[0m\u001b[0;34m\u001b[0m\u001b[0m\n\u001b[0;32m---> 12\u001b[0;31m     \u001b[0mwriter\u001b[0m \u001b[0;34m=\u001b[0m \u001b[0mpd\u001b[0m\u001b[0;34m.\u001b[0m\u001b[0mExcelWriter\u001b[0m\u001b[0;34m(\u001b[0m\u001b[0mfolder\u001b[0m \u001b[0;34m+\u001b[0m \u001b[0;34m'output.xlsx'\u001b[0m\u001b[0;34m)\u001b[0m\u001b[0;34m\u001b[0m\u001b[0;34m\u001b[0m\u001b[0m\n\u001b[0m\u001b[1;32m     13\u001b[0m     \u001b[0mdf\u001b[0m\u001b[0;34m.\u001b[0m\u001b[0mto_excel\u001b[0m\u001b[0;34m(\u001b[0m\u001b[0mwriter\u001b[0m\u001b[0;34m,\u001b[0m \u001b[0;34m'Sheet1'\u001b[0m\u001b[0;34m)\u001b[0m\u001b[0;34m\u001b[0m\u001b[0;34m\u001b[0m\u001b[0m\n\u001b[1;32m     14\u001b[0m     \u001b[0mwriter\u001b[0m\u001b[0;34m.\u001b[0m\u001b[0msave\u001b[0m\u001b[0;34m(\u001b[0m\u001b[0;34m)\u001b[0m\u001b[0;34m\u001b[0m\u001b[0;34m\u001b[0m\u001b[0m\n",
      "\u001b[0;32m/usr/local/lib/python3.9/site-packages/pandas/io/excel/_openpyxl.py\u001b[0m in \u001b[0;36m__init__\u001b[0;34m(self, path, engine, mode, storage_options, **engine_kwargs)\u001b[0m\n\u001b[1;32m     28\u001b[0m     ):\n\u001b[1;32m     29\u001b[0m         \u001b[0;31m# Use the openpyxl module as the Excel writer.\u001b[0m\u001b[0;34m\u001b[0m\u001b[0;34m\u001b[0m\u001b[0;34m\u001b[0m\u001b[0m\n\u001b[0;32m---> 30\u001b[0;31m         \u001b[0;32mfrom\u001b[0m \u001b[0mopenpyxl\u001b[0m\u001b[0;34m.\u001b[0m\u001b[0mworkbook\u001b[0m \u001b[0;32mimport\u001b[0m \u001b[0mWorkbook\u001b[0m\u001b[0;34m\u001b[0m\u001b[0;34m\u001b[0m\u001b[0m\n\u001b[0m\u001b[1;32m     31\u001b[0m \u001b[0;34m\u001b[0m\u001b[0m\n\u001b[1;32m     32\u001b[0m         super().__init__(\n",
      "\u001b[0;31mModuleNotFoundError\u001b[0m: No module named 'openpyxl'"
     ]
    }
   ],
   "source": [
    "#drumroll = pygame.mixer.Sound('drumroll.wav')\n",
    "#drumroll.play()\n",
    "\n",
    "def main(): \n",
    "    df_students, df_katas = adquire()    \n",
    "    df_students, df_katas = cleaning(df_students, df_katas)\n",
    "    df,hora= create_df_checking(df_students, df_katas)    \n",
    "    outputs(df,False)\n",
    "    return df\n",
    "\n",
    "\n",
    "if __name__ == '__main__':\n",
    "    df = main()"
   ]
  },
  {
   "cell_type": "code",
   "execution_count": null,
   "metadata": {},
   "outputs": [],
   "source": []
  }
 ],
 "metadata": {
  "kernelspec": {
   "display_name": "Python 3",
   "language": "python",
   "name": "python3"
  },
  "language_info": {
   "codemirror_mode": {
    "name": "ipython",
    "version": 3
   },
   "file_extension": ".py",
   "mimetype": "text/x-python",
   "name": "python",
   "nbconvert_exporter": "python",
   "pygments_lexer": "ipython3",
   "version": "3.9.4"
  },
  "toc": {
   "base_numbering": 1,
   "nav_menu": {},
   "number_sections": true,
   "sideBar": true,
   "skip_h1_title": false,
   "title_cell": "Table of Contents",
   "title_sidebar": "Contents",
   "toc_cell": false,
   "toc_position": {},
   "toc_section_display": true,
   "toc_window_display": false
  },
  "varInspector": {
   "cols": {
    "lenName": 16,
    "lenType": 16,
    "lenVar": 40
   },
   "kernels_config": {
    "python": {
     "delete_cmd_postfix": "",
     "delete_cmd_prefix": "del ",
     "library": "var_list.py",
     "varRefreshCmd": "print(var_dic_list())"
    },
    "r": {
     "delete_cmd_postfix": ") ",
     "delete_cmd_prefix": "rm(",
     "library": "var_list.r",
     "varRefreshCmd": "cat(var_dic_list()) "
    }
   },
   "types_to_exclude": [
    "module",
    "function",
    "builtin_function_or_method",
    "instance",
    "_Feature"
   ],
   "window_display": false
  }
 },
 "nbformat": 4,
 "nbformat_minor": 2
}
