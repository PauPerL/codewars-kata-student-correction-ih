{
 "cells": [
  {
   "cell_type": "code",
   "execution_count": 1,
   "metadata": {},
   "outputs": [],
   "source": [
    "from modules import adquire, cleaning, create_df_checking, outputs\n",
    "from numpy.random import choice\n",
    "from time import sleep\n",
    "#import pygame\n",
    "#pygame.mixer.init()"
   ]
  },
  {
   "cell_type": "code",
   "execution_count": 11,
   "metadata": {},
   "outputs": [
    {
     "name": "stdout",
     "output_type": "stream",
     "text": [
      "baccandres presentará la kata counting-sheep-dot-dot-dot\n"
     ]
    },
    {
     "data": {
      "text/html": [
       "<style  type=\"text/css\" >\n",
       "#T_7280d_row0_col0,#T_7280d_row1_col0,#T_7280d_row2_col0,#T_7280d_row3_col0,#T_7280d_row5_col0,#T_7280d_row6_col0,#T_7280d_row7_col0,#T_7280d_row8_col0,#T_7280d_row9_col0,#T_7280d_row10_col0,#T_7280d_row11_col0,#T_7280d_row13_col0,#T_7280d_row14_col0,#T_7280d_row15_col0,#T_7280d_row16_col0,#T_7280d_row17_col0,#T_7280d_row18_col0,#T_7280d_row19_col0,#T_7280d_row20_col0,#T_7280d_row22_col0,#T_7280d_row23_col0,#T_7280d_row24_col0{\n",
       "            color:  green;\n",
       "        }#T_7280d_row4_col0,#T_7280d_row12_col0,#T_7280d_row21_col0{\n",
       "            color:  red;\n",
       "        }</style><table id=\"T_7280d_\" ><thead>    <tr>        <th class=\"index_name level0\" >slug</th>        <th class=\"col_heading level0 col0\" >counting-sheep-dot-dot-dot</th>    </tr>    <tr>        <th class=\"index_name level0\" >username</th>        <th class=\"blank\" ></th>    </tr></thead><tbody>\n",
       "                <tr>\n",
       "                        <th id=\"T_7280d_level0_row0\" class=\"row_heading level0 row0\" >FerZZ</th>\n",
       "                        <td id=\"T_7280d_row0_col0\" class=\"data row0 col0\" >True</td>\n",
       "            </tr>\n",
       "            <tr>\n",
       "                        <th id=\"T_7280d_level0_row1\" class=\"row_heading level0 row1\" >juanchovpa</th>\n",
       "                        <td id=\"T_7280d_row1_col0\" class=\"data row1 col0\" >True</td>\n",
       "            </tr>\n",
       "            <tr>\n",
       "                        <th id=\"T_7280d_level0_row2\" class=\"row_heading level0 row2\" >daniela-arias</th>\n",
       "                        <td id=\"T_7280d_row2_col0\" class=\"data row2 col0\" >True</td>\n",
       "            </tr>\n",
       "            <tr>\n",
       "                        <th id=\"T_7280d_level0_row3\" class=\"row_heading level0 row3\" >baccandres</th>\n",
       "                        <td id=\"T_7280d_row3_col0\" class=\"data row3 col0\" >True</td>\n",
       "            </tr>\n",
       "            <tr>\n",
       "                        <th id=\"T_7280d_level0_row4\" class=\"row_heading level0 row4\" >silviarico</th>\n",
       "                        <td id=\"T_7280d_row4_col0\" class=\"data row4 col0\" >False</td>\n",
       "            </tr>\n",
       "            <tr>\n",
       "                        <th id=\"T_7280d_level0_row5\" class=\"row_heading level0 row5\" >EduardoRivera_98</th>\n",
       "                        <td id=\"T_7280d_row5_col0\" class=\"data row5 col0\" >True</td>\n",
       "            </tr>\n",
       "            <tr>\n",
       "                        <th id=\"T_7280d_level0_row6\" class=\"row_heading level0 row6\" >LuisSerranoCerame</th>\n",
       "                        <td id=\"T_7280d_row6_col0\" class=\"data row6 col0\" >True</td>\n",
       "            </tr>\n",
       "            <tr>\n",
       "                        <th id=\"T_7280d_level0_row7\" class=\"row_heading level0 row7\" >mariaperezdeayalas</th>\n",
       "                        <td id=\"T_7280d_row7_col0\" class=\"data row7 col0\" >True</td>\n",
       "            </tr>\n",
       "            <tr>\n",
       "                        <th id=\"T_7280d_level0_row8\" class=\"row_heading level0 row8\" >NicolasPce</th>\n",
       "                        <td id=\"T_7280d_row8_col0\" class=\"data row8 col0\" >True</td>\n",
       "            </tr>\n",
       "            <tr>\n",
       "                        <th id=\"T_7280d_level0_row9\" class=\"row_heading level0 row9\" >bvispo</th>\n",
       "                        <td id=\"T_7280d_row9_col0\" class=\"data row9 col0\" >True</td>\n",
       "            </tr>\n",
       "            <tr>\n",
       "                        <th id=\"T_7280d_level0_row10\" class=\"row_heading level0 row10\" >mariadelas</th>\n",
       "                        <td id=\"T_7280d_row10_col0\" class=\"data row10 col0\" >True</td>\n",
       "            </tr>\n",
       "            <tr>\n",
       "                        <th id=\"T_7280d_level0_row11\" class=\"row_heading level0 row11\" >a_romegar</th>\n",
       "                        <td id=\"T_7280d_row11_col0\" class=\"data row11 col0\" >True</td>\n",
       "            </tr>\n",
       "            <tr>\n",
       "                        <th id=\"T_7280d_level0_row12\" class=\"row_heading level0 row12\" >Roblak96</th>\n",
       "                        <td id=\"T_7280d_row12_col0\" class=\"data row12 col0\" >False</td>\n",
       "            </tr>\n",
       "            <tr>\n",
       "                        <th id=\"T_7280d_level0_row13\" class=\"row_heading level0 row13\" >LydiaAR</th>\n",
       "                        <td id=\"T_7280d_row13_col0\" class=\"data row13 col0\" >True</td>\n",
       "            </tr>\n",
       "            <tr>\n",
       "                        <th id=\"T_7280d_level0_row14\" class=\"row_heading level0 row14\" >beatrizsp</th>\n",
       "                        <td id=\"T_7280d_row14_col0\" class=\"data row14 col0\" >True</td>\n",
       "            </tr>\n",
       "            <tr>\n",
       "                        <th id=\"T_7280d_level0_row15\" class=\"row_heading level0 row15\" >elliotesp</th>\n",
       "                        <td id=\"T_7280d_row15_col0\" class=\"data row15 col0\" >True</td>\n",
       "            </tr>\n",
       "            <tr>\n",
       "                        <th id=\"T_7280d_level0_row16\" class=\"row_heading level0 row16\" >Carlosleono</th>\n",
       "                        <td id=\"T_7280d_row16_col0\" class=\"data row16 col0\" >True</td>\n",
       "            </tr>\n",
       "            <tr>\n",
       "                        <th id=\"T_7280d_level0_row17\" class=\"row_heading level0 row17\" >pedromartinezleis</th>\n",
       "                        <td id=\"T_7280d_row17_col0\" class=\"data row17 col0\" >True</td>\n",
       "            </tr>\n",
       "            <tr>\n",
       "                        <th id=\"T_7280d_level0_row18\" class=\"row_heading level0 row18\" >Danihelguera</th>\n",
       "                        <td id=\"T_7280d_row18_col0\" class=\"data row18 col0\" >True</td>\n",
       "            </tr>\n",
       "            <tr>\n",
       "                        <th id=\"T_7280d_level0_row19\" class=\"row_heading level0 row19\" >sinatxe</th>\n",
       "                        <td id=\"T_7280d_row19_col0\" class=\"data row19 col0\" >True</td>\n",
       "            </tr>\n",
       "            <tr>\n",
       "                        <th id=\"T_7280d_level0_row20\" class=\"row_heading level0 row20\" >Andrestart</th>\n",
       "                        <td id=\"T_7280d_row20_col0\" class=\"data row20 col0\" >True</td>\n",
       "            </tr>\n",
       "            <tr>\n",
       "                        <th id=\"T_7280d_level0_row21\" class=\"row_heading level0 row21\" >Pnat1</th>\n",
       "                        <td id=\"T_7280d_row21_col0\" class=\"data row21 col0\" >False</td>\n",
       "            </tr>\n",
       "            <tr>\n",
       "                        <th id=\"T_7280d_level0_row22\" class=\"row_heading level0 row22\" >TheIronhidex</th>\n",
       "                        <td id=\"T_7280d_row22_col0\" class=\"data row22 col0\" >True</td>\n",
       "            </tr>\n",
       "            <tr>\n",
       "                        <th id=\"T_7280d_level0_row23\" class=\"row_heading level0 row23\" >AnaWalsh</th>\n",
       "                        <td id=\"T_7280d_row23_col0\" class=\"data row23 col0\" >True</td>\n",
       "            </tr>\n",
       "            <tr>\n",
       "                        <th id=\"T_7280d_level0_row24\" class=\"row_heading level0 row24\" >Afidalgo-fmm</th>\n",
       "                        <td id=\"T_7280d_row24_col0\" class=\"data row24 col0\" >True</td>\n",
       "            </tr>\n",
       "    </tbody></table>"
      ],
      "text/plain": [
       "<pandas.io.formats.style.Styler at 0x7f8065e239d0>"
      ]
     },
     "metadata": {},
     "output_type": "display_data"
    }
   ],
   "source": [
    "#drumroll = pygame.mixer.Sound('drumroll.wav')\n",
    "#drumroll.play()\n",
    "\n",
    "def main(): \n",
    "    df_students, df_katas = adquire()    \n",
    "    df_students, df_katas = cleaning(df_students, df_katas)\n",
    "    df,hora = create_df_checking(df_students, df_katas)\n",
    "    outputs(df,False)\n",
    "    return df\n",
    "\n",
    "\n",
    "if __name__ == '__main__':\n",
    "    df = main()"
   ]
  },
  {
   "cell_type": "code",
   "execution_count": null,
   "metadata": {},
   "outputs": [],
   "source": []
  }
 ],
 "metadata": {
  "kernelspec": {
   "display_name": "ironhack",
   "language": "python",
   "name": "ironhack"
  },
  "language_info": {
   "codemirror_mode": {
    "name": "ipython",
    "version": 3
   },
   "file_extension": ".py",
   "mimetype": "text/x-python",
   "name": "python",
   "nbconvert_exporter": "python",
   "pygments_lexer": "ipython3",
   "version": "3.8.5"
  },
  "toc": {
   "base_numbering": 1,
   "nav_menu": {},
   "number_sections": true,
   "sideBar": true,
   "skip_h1_title": false,
   "title_cell": "Table of Contents",
   "title_sidebar": "Contents",
   "toc_cell": false,
   "toc_position": {},
   "toc_section_display": true,
   "toc_window_display": false
  },
  "varInspector": {
   "cols": {
    "lenName": 16,
    "lenType": 16,
    "lenVar": 40
   },
   "kernels_config": {
    "python": {
     "delete_cmd_postfix": "",
     "delete_cmd_prefix": "del ",
     "library": "var_list.py",
     "varRefreshCmd": "print(var_dic_list())"
    },
    "r": {
     "delete_cmd_postfix": ") ",
     "delete_cmd_prefix": "rm(",
     "library": "var_list.r",
     "varRefreshCmd": "cat(var_dic_list()) "
    }
   },
   "types_to_exclude": [
    "module",
    "function",
    "builtin_function_or_method",
    "instance",
    "_Feature"
   ],
   "window_display": false
  }
 },
 "nbformat": 4,
 "nbformat_minor": 2
}
