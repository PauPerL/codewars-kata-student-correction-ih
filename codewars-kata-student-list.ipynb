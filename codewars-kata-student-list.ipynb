{
 "cells": [
  {
   "cell_type": "code",
   "execution_count": null,
   "metadata": {},
   "outputs": [],
   "source": [
    "# Imports\n",
    "\n",
    "from modules import adquire, cleaning, create_df_checking, outputs\n",
    "\n",
    "\n",
    "def main(): \n",
    "    df_students, df_katas = adquire()    \n",
    "    df_students, df_katas = cleaning(df_students, df_katas)\n",
    "    df,_= create_df_checking(df_students, df_katas)\n",
    "    outputs(df,False)\n",
    "\n",
    "\n",
    "if __name__ == '__main__':\n",
    "    main()\n",
    "    "
   ]
  },
  {
   "cell_type": "code",
   "execution_count": null,
   "metadata": {},
   "outputs": [],
   "source": []
  },
  {
   "cell_type": "code",
   "execution_count": null,
   "metadata": {},
   "outputs": [],
   "source": []
  }
 ],
 "metadata": {
  "kernelspec": {
   "display_name": "Python 3",
   "language": "python",
   "name": "python3"
  }
 },
 "nbformat": 4,
 "nbformat_minor": 2
}
