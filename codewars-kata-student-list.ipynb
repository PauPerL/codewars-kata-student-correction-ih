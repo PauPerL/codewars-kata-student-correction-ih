{
 "cells": [
  {
   "cell_type": "code",
   "execution_count": 1,
   "metadata": {},
   "outputs": [],
   "source": [
    "from modules import adquire, cleaning, create_df_checking, outputs\n",
    "from numpy.random import choice\n",
    "from time import sleep\n",
    "#import pygame\n",
    "#pygame.mixer.init()"
   ]
  },
  {
   "cell_type": "code",
   "execution_count": 8,
   "metadata": {
    "scrolled": false
   },
   "outputs": [
    {
     "name": "stdout",
     "output_type": "stream",
     "text": [
      "Pomilusky presentará la kata give-me-a-diamond\n"
     ]
    },
    {
     "data": {
      "text/html": [
       "<style  type=\"text/css\" >\n",
       "#T_e158b_row0_col0,#T_e158b_row1_col0,#T_e158b_row3_col0,#T_e158b_row3_col1,#T_e158b_row4_col0,#T_e158b_row6_col0,#T_e158b_row7_col0,#T_e158b_row7_col1,#T_e158b_row9_col0,#T_e158b_row9_col1,#T_e158b_row10_col1,#T_e158b_row12_col0,#T_e158b_row14_col0{\n",
       "            color:  green;\n",
       "        }#T_e158b_row0_col1,#T_e158b_row1_col1,#T_e158b_row2_col0,#T_e158b_row2_col1,#T_e158b_row4_col1,#T_e158b_row5_col0,#T_e158b_row5_col1,#T_e158b_row6_col1,#T_e158b_row8_col0,#T_e158b_row8_col1,#T_e158b_row10_col0,#T_e158b_row11_col0,#T_e158b_row11_col1,#T_e158b_row12_col1,#T_e158b_row13_col0,#T_e158b_row13_col1,#T_e158b_row14_col1{\n",
       "            color:  red;\n",
       "        }</style><table id=\"T_e158b_\" ><thead>    <tr>        <th class=\"index_name level0\" >slug</th>        <th class=\"col_heading level0 col0\" >sql-basics-monsters-using-case</th>        <th class=\"col_heading level0 col1\" >give-me-a-diamond</th>    </tr>    <tr>        <th class=\"index_name level0\" >username</th>        <th class=\"blank\" ></th>        <th class=\"blank\" ></th>    </tr></thead><tbody>\n",
       "                <tr>\n",
       "                        <th id=\"T_e158b_level0_row0\" class=\"row_heading level0 row0\" >SergioMB12</th>\n",
       "                        <td id=\"T_e158b_row0_col0\" class=\"data row0 col0\" >True</td>\n",
       "                        <td id=\"T_e158b_row0_col1\" class=\"data row0 col1\" >False</td>\n",
       "            </tr>\n",
       "            <tr>\n",
       "                        <th id=\"T_e158b_level0_row1\" class=\"row_heading level0 row1\" >DiSanchz</th>\n",
       "                        <td id=\"T_e158b_row1_col0\" class=\"data row1 col0\" >True</td>\n",
       "                        <td id=\"T_e158b_row1_col1\" class=\"data row1 col1\" >False</td>\n",
       "            </tr>\n",
       "            <tr>\n",
       "                        <th id=\"T_e158b_level0_row2\" class=\"row_heading level0 row2\" >ce-valle</th>\n",
       "                        <td id=\"T_e158b_row2_col0\" class=\"data row2 col0\" >False</td>\n",
       "                        <td id=\"T_e158b_row2_col1\" class=\"data row2 col1\" >False</td>\n",
       "            </tr>\n",
       "            <tr>\n",
       "                        <th id=\"T_e158b_level0_row3\" class=\"row_heading level0 row3\" >VictorPablo12</th>\n",
       "                        <td id=\"T_e158b_row3_col0\" class=\"data row3 col0\" >True</td>\n",
       "                        <td id=\"T_e158b_row3_col1\" class=\"data row3 col1\" >True</td>\n",
       "            </tr>\n",
       "            <tr>\n",
       "                        <th id=\"T_e158b_level0_row4\" class=\"row_heading level0 row4\" >AntonioLopga12</th>\n",
       "                        <td id=\"T_e158b_row4_col0\" class=\"data row4 col0\" >True</td>\n",
       "                        <td id=\"T_e158b_row4_col1\" class=\"data row4 col1\" >False</td>\n",
       "            </tr>\n",
       "            <tr>\n",
       "                        <th id=\"T_e158b_level0_row5\" class=\"row_heading level0 row5\" >Gitfracto</th>\n",
       "                        <td id=\"T_e158b_row5_col0\" class=\"data row5 col0\" >False</td>\n",
       "                        <td id=\"T_e158b_row5_col1\" class=\"data row5 col1\" >False</td>\n",
       "            </tr>\n",
       "            <tr>\n",
       "                        <th id=\"T_e158b_level0_row6\" class=\"row_heading level0 row6\" >juanamir</th>\n",
       "                        <td id=\"T_e158b_row6_col0\" class=\"data row6 col0\" >True</td>\n",
       "                        <td id=\"T_e158b_row6_col1\" class=\"data row6 col1\" >False</td>\n",
       "            </tr>\n",
       "            <tr>\n",
       "                        <th id=\"T_e158b_level0_row7\" class=\"row_heading level0 row7\" >Pomilusky</th>\n",
       "                        <td id=\"T_e158b_row7_col0\" class=\"data row7 col0\" >True</td>\n",
       "                        <td id=\"T_e158b_row7_col1\" class=\"data row7 col1\" >True</td>\n",
       "            </tr>\n",
       "            <tr>\n",
       "                        <th id=\"T_e158b_level0_row8\" class=\"row_heading level0 row8\" >pablomora213</th>\n",
       "                        <td id=\"T_e158b_row8_col0\" class=\"data row8 col0\" >False</td>\n",
       "                        <td id=\"T_e158b_row8_col1\" class=\"data row8 col1\" >False</td>\n",
       "            </tr>\n",
       "            <tr>\n",
       "                        <th id=\"T_e158b_level0_row9\" class=\"row_heading level0 row9\" >evaarquero</th>\n",
       "                        <td id=\"T_e158b_row9_col0\" class=\"data row9 col0\" >True</td>\n",
       "                        <td id=\"T_e158b_row9_col1\" class=\"data row9 col1\" >True</td>\n",
       "            </tr>\n",
       "            <tr>\n",
       "                        <th id=\"T_e158b_level0_row10\" class=\"row_heading level0 row10\" >rodrigogalan</th>\n",
       "                        <td id=\"T_e158b_row10_col0\" class=\"data row10 col0\" >False</td>\n",
       "                        <td id=\"T_e158b_row10_col1\" class=\"data row10 col1\" >True</td>\n",
       "            </tr>\n",
       "            <tr>\n",
       "                        <th id=\"T_e158b_level0_row11\" class=\"row_heading level0 row11\" >Jesus Chao</th>\n",
       "                        <td id=\"T_e158b_row11_col0\" class=\"data row11 col0\" >False</td>\n",
       "                        <td id=\"T_e158b_row11_col1\" class=\"data row11 col1\" >False</td>\n",
       "            </tr>\n",
       "            <tr>\n",
       "                        <th id=\"T_e158b_level0_row12\" class=\"row_heading level0 row12\" >mariozapatero</th>\n",
       "                        <td id=\"T_e158b_row12_col0\" class=\"data row12 col0\" >True</td>\n",
       "                        <td id=\"T_e158b_row12_col1\" class=\"data row12 col1\" >False</td>\n",
       "            </tr>\n",
       "            <tr>\n",
       "                        <th id=\"T_e158b_level0_row13\" class=\"row_heading level0 row13\" >Marilyn</th>\n",
       "                        <td id=\"T_e158b_row13_col0\" class=\"data row13 col0\" >False</td>\n",
       "                        <td id=\"T_e158b_row13_col1\" class=\"data row13 col1\" >False</td>\n",
       "            </tr>\n",
       "            <tr>\n",
       "                        <th id=\"T_e158b_level0_row14\" class=\"row_heading level0 row14\" >IsabelGarcia11</th>\n",
       "                        <td id=\"T_e158b_row14_col0\" class=\"data row14 col0\" >True</td>\n",
       "                        <td id=\"T_e158b_row14_col1\" class=\"data row14 col1\" >False</td>\n",
       "            </tr>\n",
       "    </tbody></table>"
      ],
      "text/plain": [
       "<pandas.io.formats.style.Styler at 0x7fcf8a53ea60>"
      ]
     },
     "metadata": {},
     "output_type": "display_data"
    }
   ],
   "source": [
    "#drumroll = pygame.mixer.Sound('drumroll.wav')\n",
    "#drumroll.play()\n",
    "\n",
    "def main(): \n",
    "    df_students, df_katas = adquire()    \n",
    "    df_students, df_katas = cleaning(df_students, df_katas)\n",
    "    df,hora = create_df_checking(df_students, df_katas)\n",
    "    outputs(df,False)\n",
    "    return df\n",
    "\n",
    "\n",
    "if __name__ == '__main__':\n",
    "    df = main()"
   ]
  },
  {
   "cell_type": "markdown",
   "metadata": {},
   "source": [
    "### Tip - katas nuevas\n",
    "Para incluir en el csv de input `katas` una kata nueva de la cual desconocemos el `slug`(nombre modificado que nos da la api y del cual tira el código para comprobar si las han hecho), insertar fila dejando el hueco de la columna `slug`, de tal manera que quedan dos comas seguidas, asi:\n",
    "+ 59fa8e2646d8433ee200003f,,2022-02-16T12:30:00.000Z,120.0"
   ]
  }
 ],
 "metadata": {
  "kernelspec": {
   "display_name": "ironhack",
   "language": "python",
   "name": "ironhack"
  },
  "language_info": {
   "codemirror_mode": {
    "name": "ipython",
    "version": 3
   },
   "file_extension": ".py",
   "mimetype": "text/x-python",
   "name": "python",
   "nbconvert_exporter": "python",
   "pygments_lexer": "ipython3",
   "version": "3.8.5"
  },
  "toc": {
   "base_numbering": 1,
   "nav_menu": {},
   "number_sections": true,
   "sideBar": true,
   "skip_h1_title": false,
   "title_cell": "Table of Contents",
   "title_sidebar": "Contents",
   "toc_cell": false,
   "toc_position": {},
   "toc_section_display": true,
   "toc_window_display": false
  },
  "varInspector": {
   "cols": {
    "lenName": 16,
    "lenType": 16,
    "lenVar": 40
   },
   "kernels_config": {
    "python": {
     "delete_cmd_postfix": "",
     "delete_cmd_prefix": "del ",
     "library": "var_list.py",
     "varRefreshCmd": "print(var_dic_list())"
    },
    "r": {
     "delete_cmd_postfix": ") ",
     "delete_cmd_prefix": "rm(",
     "library": "var_list.r",
     "varRefreshCmd": "cat(var_dic_list()) "
    }
   },
   "types_to_exclude": [
    "module",
    "function",
    "builtin_function_or_method",
    "instance",
    "_Feature"
   ],
   "window_display": false
  }
 },
 "nbformat": 4,
 "nbformat_minor": 2
}
