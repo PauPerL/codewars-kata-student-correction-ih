{
 "cells": [
  {
   "cell_type": "code",
   "execution_count": 4,
   "metadata": {},
   "outputs": [
    {
     "name": "stdout",
     "output_type": "stream",
     "text": [
      "pygame 2.0.1 (SDL 2.0.14, Python 3.8.5)\n",
      "Hello from the pygame community. https://www.pygame.org/contribute.html\n"
     ]
    }
   ],
   "source": [
    "from modules import adquire, cleaning, create_df_checking, outputs\n",
    "from numpy.random import choice\n",
    "from time import sleep\n",
    "import pygame\n",
    "pygame.mixer.init()"
   ]
  },
  {
   "cell_type": "code",
   "execution_count": 18,
   "metadata": {
    "scrolled": true
   },
   "outputs": [
    {
     "name": "stdout",
     "output_type": "stream",
     "text": [
      "a_romegar presentará la kata counting-in-the-amazon\n"
     ]
    },
    {
     "data": {
      "text/html": [
       "<style  type=\"text/css\" >\n",
       "#T_9da43_row0_col0,#T_9da43_row0_col1,#T_9da43_row1_col0,#T_9da43_row1_col1,#T_9da43_row2_col0,#T_9da43_row3_col0,#T_9da43_row3_col1,#T_9da43_row4_col0,#T_9da43_row4_col1,#T_9da43_row5_col0,#T_9da43_row6_col0,#T_9da43_row7_col0,#T_9da43_row7_col1,#T_9da43_row8_col0,#T_9da43_row8_col1,#T_9da43_row9_col0,#T_9da43_row10_col0,#T_9da43_row10_col1,#T_9da43_row11_col0,#T_9da43_row11_col1,#T_9da43_row12_col0,#T_9da43_row13_col0,#T_9da43_row14_col0,#T_9da43_row15_col0,#T_9da43_row15_col1,#T_9da43_row16_col0,#T_9da43_row16_col1,#T_9da43_row17_col0,#T_9da43_row17_col1,#T_9da43_row18_col0,#T_9da43_row18_col1,#T_9da43_row19_col0,#T_9da43_row19_col1,#T_9da43_row20_col0,#T_9da43_row21_col0,#T_9da43_row22_col0,#T_9da43_row22_col1,#T_9da43_row24_col0{\n",
       "            color:  green;\n",
       "        }#T_9da43_row2_col1,#T_9da43_row5_col1,#T_9da43_row6_col1,#T_9da43_row9_col1,#T_9da43_row12_col1,#T_9da43_row13_col1,#T_9da43_row14_col1,#T_9da43_row20_col1,#T_9da43_row21_col1,#T_9da43_row23_col0,#T_9da43_row23_col1,#T_9da43_row24_col1{\n",
       "            color:  red;\n",
       "        }</style><table id=\"T_9da43_\" ><thead>    <tr>        <th class=\"index_name level0\" >slug</th>        <th class=\"col_heading level0 col0\" >fake-binary</th>        <th class=\"col_heading level0 col1\" >counting-in-the-amazon</th>    </tr>    <tr>        <th class=\"index_name level0\" >username</th>        <th class=\"blank\" ></th>        <th class=\"blank\" ></th>    </tr></thead><tbody>\n",
       "                <tr>\n",
       "                        <th id=\"T_9da43_level0_row0\" class=\"row_heading level0 row0\" >FerZZ</th>\n",
       "                        <td id=\"T_9da43_row0_col0\" class=\"data row0 col0\" >True</td>\n",
       "                        <td id=\"T_9da43_row0_col1\" class=\"data row0 col1\" >True</td>\n",
       "            </tr>\n",
       "            <tr>\n",
       "                        <th id=\"T_9da43_level0_row1\" class=\"row_heading level0 row1\" >juanchovpa</th>\n",
       "                        <td id=\"T_9da43_row1_col0\" class=\"data row1 col0\" >True</td>\n",
       "                        <td id=\"T_9da43_row1_col1\" class=\"data row1 col1\" >True</td>\n",
       "            </tr>\n",
       "            <tr>\n",
       "                        <th id=\"T_9da43_level0_row2\" class=\"row_heading level0 row2\" >daniela-arias</th>\n",
       "                        <td id=\"T_9da43_row2_col0\" class=\"data row2 col0\" >True</td>\n",
       "                        <td id=\"T_9da43_row2_col1\" class=\"data row2 col1\" >False</td>\n",
       "            </tr>\n",
       "            <tr>\n",
       "                        <th id=\"T_9da43_level0_row3\" class=\"row_heading level0 row3\" >baccandres</th>\n",
       "                        <td id=\"T_9da43_row3_col0\" class=\"data row3 col0\" >True</td>\n",
       "                        <td id=\"T_9da43_row3_col1\" class=\"data row3 col1\" >True</td>\n",
       "            </tr>\n",
       "            <tr>\n",
       "                        <th id=\"T_9da43_level0_row4\" class=\"row_heading level0 row4\" >silviarico</th>\n",
       "                        <td id=\"T_9da43_row4_col0\" class=\"data row4 col0\" >True</td>\n",
       "                        <td id=\"T_9da43_row4_col1\" class=\"data row4 col1\" >True</td>\n",
       "            </tr>\n",
       "            <tr>\n",
       "                        <th id=\"T_9da43_level0_row5\" class=\"row_heading level0 row5\" >EduardoRivera_98</th>\n",
       "                        <td id=\"T_9da43_row5_col0\" class=\"data row5 col0\" >True</td>\n",
       "                        <td id=\"T_9da43_row5_col1\" class=\"data row5 col1\" >False</td>\n",
       "            </tr>\n",
       "            <tr>\n",
       "                        <th id=\"T_9da43_level0_row6\" class=\"row_heading level0 row6\" >LuisSerranoCerame</th>\n",
       "                        <td id=\"T_9da43_row6_col0\" class=\"data row6 col0\" >True</td>\n",
       "                        <td id=\"T_9da43_row6_col1\" class=\"data row6 col1\" >False</td>\n",
       "            </tr>\n",
       "            <tr>\n",
       "                        <th id=\"T_9da43_level0_row7\" class=\"row_heading level0 row7\" >mariaperezdeayalas</th>\n",
       "                        <td id=\"T_9da43_row7_col0\" class=\"data row7 col0\" >True</td>\n",
       "                        <td id=\"T_9da43_row7_col1\" class=\"data row7 col1\" >True</td>\n",
       "            </tr>\n",
       "            <tr>\n",
       "                        <th id=\"T_9da43_level0_row8\" class=\"row_heading level0 row8\" >NicolasPce</th>\n",
       "                        <td id=\"T_9da43_row8_col0\" class=\"data row8 col0\" >True</td>\n",
       "                        <td id=\"T_9da43_row8_col1\" class=\"data row8 col1\" >True</td>\n",
       "            </tr>\n",
       "            <tr>\n",
       "                        <th id=\"T_9da43_level0_row9\" class=\"row_heading level0 row9\" >bvispo</th>\n",
       "                        <td id=\"T_9da43_row9_col0\" class=\"data row9 col0\" >True</td>\n",
       "                        <td id=\"T_9da43_row9_col1\" class=\"data row9 col1\" >False</td>\n",
       "            </tr>\n",
       "            <tr>\n",
       "                        <th id=\"T_9da43_level0_row10\" class=\"row_heading level0 row10\" >mariadelas</th>\n",
       "                        <td id=\"T_9da43_row10_col0\" class=\"data row10 col0\" >True</td>\n",
       "                        <td id=\"T_9da43_row10_col1\" class=\"data row10 col1\" >True</td>\n",
       "            </tr>\n",
       "            <tr>\n",
       "                        <th id=\"T_9da43_level0_row11\" class=\"row_heading level0 row11\" >a_romegar</th>\n",
       "                        <td id=\"T_9da43_row11_col0\" class=\"data row11 col0\" >True</td>\n",
       "                        <td id=\"T_9da43_row11_col1\" class=\"data row11 col1\" >True</td>\n",
       "            </tr>\n",
       "            <tr>\n",
       "                        <th id=\"T_9da43_level0_row12\" class=\"row_heading level0 row12\" >Roblak96</th>\n",
       "                        <td id=\"T_9da43_row12_col0\" class=\"data row12 col0\" >True</td>\n",
       "                        <td id=\"T_9da43_row12_col1\" class=\"data row12 col1\" >False</td>\n",
       "            </tr>\n",
       "            <tr>\n",
       "                        <th id=\"T_9da43_level0_row13\" class=\"row_heading level0 row13\" >LydiaAR</th>\n",
       "                        <td id=\"T_9da43_row13_col0\" class=\"data row13 col0\" >True</td>\n",
       "                        <td id=\"T_9da43_row13_col1\" class=\"data row13 col1\" >False</td>\n",
       "            </tr>\n",
       "            <tr>\n",
       "                        <th id=\"T_9da43_level0_row14\" class=\"row_heading level0 row14\" >beatrizsp</th>\n",
       "                        <td id=\"T_9da43_row14_col0\" class=\"data row14 col0\" >True</td>\n",
       "                        <td id=\"T_9da43_row14_col1\" class=\"data row14 col1\" >False</td>\n",
       "            </tr>\n",
       "            <tr>\n",
       "                        <th id=\"T_9da43_level0_row15\" class=\"row_heading level0 row15\" >elliotesp</th>\n",
       "                        <td id=\"T_9da43_row15_col0\" class=\"data row15 col0\" >True</td>\n",
       "                        <td id=\"T_9da43_row15_col1\" class=\"data row15 col1\" >True</td>\n",
       "            </tr>\n",
       "            <tr>\n",
       "                        <th id=\"T_9da43_level0_row16\" class=\"row_heading level0 row16\" >Carlosleono</th>\n",
       "                        <td id=\"T_9da43_row16_col0\" class=\"data row16 col0\" >True</td>\n",
       "                        <td id=\"T_9da43_row16_col1\" class=\"data row16 col1\" >True</td>\n",
       "            </tr>\n",
       "            <tr>\n",
       "                        <th id=\"T_9da43_level0_row17\" class=\"row_heading level0 row17\" >pedromartinezleis</th>\n",
       "                        <td id=\"T_9da43_row17_col0\" class=\"data row17 col0\" >True</td>\n",
       "                        <td id=\"T_9da43_row17_col1\" class=\"data row17 col1\" >True</td>\n",
       "            </tr>\n",
       "            <tr>\n",
       "                        <th id=\"T_9da43_level0_row18\" class=\"row_heading level0 row18\" >Danihelguera</th>\n",
       "                        <td id=\"T_9da43_row18_col0\" class=\"data row18 col0\" >True</td>\n",
       "                        <td id=\"T_9da43_row18_col1\" class=\"data row18 col1\" >True</td>\n",
       "            </tr>\n",
       "            <tr>\n",
       "                        <th id=\"T_9da43_level0_row19\" class=\"row_heading level0 row19\" >sinatxe</th>\n",
       "                        <td id=\"T_9da43_row19_col0\" class=\"data row19 col0\" >True</td>\n",
       "                        <td id=\"T_9da43_row19_col1\" class=\"data row19 col1\" >True</td>\n",
       "            </tr>\n",
       "            <tr>\n",
       "                        <th id=\"T_9da43_level0_row20\" class=\"row_heading level0 row20\" >Andrestart</th>\n",
       "                        <td id=\"T_9da43_row20_col0\" class=\"data row20 col0\" >True</td>\n",
       "                        <td id=\"T_9da43_row20_col1\" class=\"data row20 col1\" >False</td>\n",
       "            </tr>\n",
       "            <tr>\n",
       "                        <th id=\"T_9da43_level0_row21\" class=\"row_heading level0 row21\" >Pnat1</th>\n",
       "                        <td id=\"T_9da43_row21_col0\" class=\"data row21 col0\" >True</td>\n",
       "                        <td id=\"T_9da43_row21_col1\" class=\"data row21 col1\" >False</td>\n",
       "            </tr>\n",
       "            <tr>\n",
       "                        <th id=\"T_9da43_level0_row22\" class=\"row_heading level0 row22\" >TheIronhidex</th>\n",
       "                        <td id=\"T_9da43_row22_col0\" class=\"data row22 col0\" >True</td>\n",
       "                        <td id=\"T_9da43_row22_col1\" class=\"data row22 col1\" >True</td>\n",
       "            </tr>\n",
       "            <tr>\n",
       "                        <th id=\"T_9da43_level0_row23\" class=\"row_heading level0 row23\" >AnaWalsh</th>\n",
       "                        <td id=\"T_9da43_row23_col0\" class=\"data row23 col0\" >False</td>\n",
       "                        <td id=\"T_9da43_row23_col1\" class=\"data row23 col1\" >False</td>\n",
       "            </tr>\n",
       "            <tr>\n",
       "                        <th id=\"T_9da43_level0_row24\" class=\"row_heading level0 row24\" >Afidalgo-fmm</th>\n",
       "                        <td id=\"T_9da43_row24_col0\" class=\"data row24 col0\" >True</td>\n",
       "                        <td id=\"T_9da43_row24_col1\" class=\"data row24 col1\" >False</td>\n",
       "            </tr>\n",
       "    </tbody></table>"
      ],
      "text/plain": [
       "<pandas.io.formats.style.Styler at 0x7fcc13b21400>"
      ]
     },
     "metadata": {},
     "output_type": "display_data"
    }
   ],
   "source": [
    "#drumroll = pygame.mixer.Sound('drumroll.wav')\n",
    "#drumroll.play()\n",
    "\n",
    "def main(): \n",
    "    df_students, df_katas = adquire()    \n",
    "    df_students, df_katas = cleaning(df_students, df_katas)\n",
    "    df,hora = create_df_checking(df_students, df_katas)\n",
    "    outputs(df,False)\n",
    "    return df\n",
    "\n",
    "\n",
    "if __name__ == '__main__':\n",
    "    df = main()"
   ]
  },
  {
   "cell_type": "code",
   "execution_count": null,
   "metadata": {},
   "outputs": [],
   "source": []
  }
 ],
 "metadata": {
  "kernelspec": {
   "display_name": "ironhack",
   "language": "python",
   "name": "ironhack"
  },
  "language_info": {
   "codemirror_mode": {
    "name": "ipython",
    "version": 3
   },
   "file_extension": ".py",
   "mimetype": "text/x-python",
   "name": "python",
   "nbconvert_exporter": "python",
   "pygments_lexer": "ipython3",
   "version": "3.8.5"
  },
  "toc": {
   "base_numbering": 1,
   "nav_menu": {},
   "number_sections": true,
   "sideBar": true,
   "skip_h1_title": false,
   "title_cell": "Table of Contents",
   "title_sidebar": "Contents",
   "toc_cell": false,
   "toc_position": {},
   "toc_section_display": true,
   "toc_window_display": false
  },
  "varInspector": {
   "cols": {
    "lenName": 16,
    "lenType": 16,
    "lenVar": 40
   },
   "kernels_config": {
    "python": {
     "delete_cmd_postfix": "",
     "delete_cmd_prefix": "del ",
     "library": "var_list.py",
     "varRefreshCmd": "print(var_dic_list())"
    },
    "r": {
     "delete_cmd_postfix": ") ",
     "delete_cmd_prefix": "rm(",
     "library": "var_list.r",
     "varRefreshCmd": "cat(var_dic_list()) "
    }
   },
   "types_to_exclude": [
    "module",
    "function",
    "builtin_function_or_method",
    "instance",
    "_Feature"
   ],
   "window_display": false
  }
 },
 "nbformat": 4,
 "nbformat_minor": 2
}
