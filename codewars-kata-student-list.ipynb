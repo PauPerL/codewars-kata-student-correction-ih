{
 "cells": [
  {
   "cell_type": "code",
   "execution_count": 1,
   "metadata": {},
   "outputs": [],
   "source": [
    "from modules import adquire, cleaning, create_df_checking, outputs\n",
    "from numpy.random import choice\n",
    "from time import sleep\n",
    "#import pygame\n",
    "#pygame.mixer.init()"
   ]
  },
  {
   "cell_type": "code",
   "execution_count": 8,
   "metadata": {
    "scrolled": false
   },
   "outputs": [
    {
     "name": "stdout",
     "output_type": "stream",
     "text": [
      "as-Solo presentará la kata the-deaf-rats-of-hamelin\n"
     ]
    },
    {
     "data": {
      "text/html": [
       "<style  type=\"text/css\" >\n",
       "    #T_b4cfc7d6_a8f1_11eb_804b_c46516fc33d3row0_col0 {\n",
       "            color:  green;\n",
       "        }    #T_b4cfc7d6_a8f1_11eb_804b_c46516fc33d3row0_col1 {\n",
       "            color:  red;\n",
       "        }    #T_b4cfc7d6_a8f1_11eb_804b_c46516fc33d3row1_col0 {\n",
       "            color:  green;\n",
       "        }    #T_b4cfc7d6_a8f1_11eb_804b_c46516fc33d3row1_col1 {\n",
       "            color:  green;\n",
       "        }    #T_b4cfc7d6_a8f1_11eb_804b_c46516fc33d3row2_col0 {\n",
       "            color:  green;\n",
       "        }    #T_b4cfc7d6_a8f1_11eb_804b_c46516fc33d3row2_col1 {\n",
       "            color:  red;\n",
       "        }    #T_b4cfc7d6_a8f1_11eb_804b_c46516fc33d3row3_col0 {\n",
       "            color:  red;\n",
       "        }    #T_b4cfc7d6_a8f1_11eb_804b_c46516fc33d3row3_col1 {\n",
       "            color:  red;\n",
       "        }    #T_b4cfc7d6_a8f1_11eb_804b_c46516fc33d3row4_col0 {\n",
       "            color:  green;\n",
       "        }    #T_b4cfc7d6_a8f1_11eb_804b_c46516fc33d3row4_col1 {\n",
       "            color:  red;\n",
       "        }    #T_b4cfc7d6_a8f1_11eb_804b_c46516fc33d3row5_col0 {\n",
       "            color:  red;\n",
       "        }    #T_b4cfc7d6_a8f1_11eb_804b_c46516fc33d3row5_col1 {\n",
       "            color:  red;\n",
       "        }    #T_b4cfc7d6_a8f1_11eb_804b_c46516fc33d3row6_col0 {\n",
       "            color:  green;\n",
       "        }    #T_b4cfc7d6_a8f1_11eb_804b_c46516fc33d3row6_col1 {\n",
       "            color:  red;\n",
       "        }    #T_b4cfc7d6_a8f1_11eb_804b_c46516fc33d3row7_col0 {\n",
       "            color:  green;\n",
       "        }    #T_b4cfc7d6_a8f1_11eb_804b_c46516fc33d3row7_col1 {\n",
       "            color:  red;\n",
       "        }    #T_b4cfc7d6_a8f1_11eb_804b_c46516fc33d3row8_col0 {\n",
       "            color:  red;\n",
       "        }    #T_b4cfc7d6_a8f1_11eb_804b_c46516fc33d3row8_col1 {\n",
       "            color:  red;\n",
       "        }    #T_b4cfc7d6_a8f1_11eb_804b_c46516fc33d3row9_col0 {\n",
       "            color:  green;\n",
       "        }    #T_b4cfc7d6_a8f1_11eb_804b_c46516fc33d3row9_col1 {\n",
       "            color:  red;\n",
       "        }    #T_b4cfc7d6_a8f1_11eb_804b_c46516fc33d3row10_col0 {\n",
       "            color:  green;\n",
       "        }    #T_b4cfc7d6_a8f1_11eb_804b_c46516fc33d3row10_col1 {\n",
       "            color:  red;\n",
       "        }    #T_b4cfc7d6_a8f1_11eb_804b_c46516fc33d3row11_col0 {\n",
       "            color:  green;\n",
       "        }    #T_b4cfc7d6_a8f1_11eb_804b_c46516fc33d3row11_col1 {\n",
       "            color:  red;\n",
       "        }    #T_b4cfc7d6_a8f1_11eb_804b_c46516fc33d3row12_col0 {\n",
       "            color:  green;\n",
       "        }    #T_b4cfc7d6_a8f1_11eb_804b_c46516fc33d3row12_col1 {\n",
       "            color:  green;\n",
       "        }    #T_b4cfc7d6_a8f1_11eb_804b_c46516fc33d3row13_col0 {\n",
       "            color:  green;\n",
       "        }    #T_b4cfc7d6_a8f1_11eb_804b_c46516fc33d3row13_col1 {\n",
       "            color:  red;\n",
       "        }    #T_b4cfc7d6_a8f1_11eb_804b_c46516fc33d3row14_col0 {\n",
       "            color:  green;\n",
       "        }    #T_b4cfc7d6_a8f1_11eb_804b_c46516fc33d3row14_col1 {\n",
       "            color:  red;\n",
       "        }    #T_b4cfc7d6_a8f1_11eb_804b_c46516fc33d3row15_col0 {\n",
       "            color:  green;\n",
       "        }    #T_b4cfc7d6_a8f1_11eb_804b_c46516fc33d3row15_col1 {\n",
       "            color:  red;\n",
       "        }    #T_b4cfc7d6_a8f1_11eb_804b_c46516fc33d3row16_col0 {\n",
       "            color:  red;\n",
       "        }    #T_b4cfc7d6_a8f1_11eb_804b_c46516fc33d3row16_col1 {\n",
       "            color:  red;\n",
       "        }    #T_b4cfc7d6_a8f1_11eb_804b_c46516fc33d3row17_col0 {\n",
       "            color:  red;\n",
       "        }    #T_b4cfc7d6_a8f1_11eb_804b_c46516fc33d3row17_col1 {\n",
       "            color:  red;\n",
       "        }    #T_b4cfc7d6_a8f1_11eb_804b_c46516fc33d3row18_col0 {\n",
       "            color:  red;\n",
       "        }    #T_b4cfc7d6_a8f1_11eb_804b_c46516fc33d3row18_col1 {\n",
       "            color:  red;\n",
       "        }    #T_b4cfc7d6_a8f1_11eb_804b_c46516fc33d3row19_col0 {\n",
       "            color:  red;\n",
       "        }    #T_b4cfc7d6_a8f1_11eb_804b_c46516fc33d3row19_col1 {\n",
       "            color:  red;\n",
       "        }</style><table id=\"T_b4cfc7d6_a8f1_11eb_804b_c46516fc33d3\" ><thead>    <tr>        <th class=\"index_name level0\" >slug</th>        <th class=\"col_heading level0 col0\" >scraping-get-the-year-a-codewarrior-joined</th>        <th class=\"col_heading level0 col1\" >the-deaf-rats-of-hamelin</th>    </tr>    <tr>        <th class=\"index_name level0\" >username</th>        <th class=\"blank\" ></th>        <th class=\"blank\" ></th>    </tr></thead><tbody>\n",
       "                <tr>\n",
       "                        <th id=\"T_b4cfc7d6_a8f1_11eb_804b_c46516fc33d3level0_row0\" class=\"row_heading level0 row0\" >FranLRamos</th>\n",
       "                        <td id=\"T_b4cfc7d6_a8f1_11eb_804b_c46516fc33d3row0_col0\" class=\"data row0 col0\" >True</td>\n",
       "                        <td id=\"T_b4cfc7d6_a8f1_11eb_804b_c46516fc33d3row0_col1\" class=\"data row0 col1\" >False</td>\n",
       "            </tr>\n",
       "            <tr>\n",
       "                        <th id=\"T_b4cfc7d6_a8f1_11eb_804b_c46516fc33d3level0_row1\" class=\"row_heading level0 row1\" >capitanz</th>\n",
       "                        <td id=\"T_b4cfc7d6_a8f1_11eb_804b_c46516fc33d3row1_col0\" class=\"data row1 col0\" >True</td>\n",
       "                        <td id=\"T_b4cfc7d6_a8f1_11eb_804b_c46516fc33d3row1_col1\" class=\"data row1 col1\" >True</td>\n",
       "            </tr>\n",
       "            <tr>\n",
       "                        <th id=\"T_b4cfc7d6_a8f1_11eb_804b_c46516fc33d3level0_row2\" class=\"row_heading level0 row2\" >javielpapi</th>\n",
       "                        <td id=\"T_b4cfc7d6_a8f1_11eb_804b_c46516fc33d3row2_col0\" class=\"data row2 col0\" >True</td>\n",
       "                        <td id=\"T_b4cfc7d6_a8f1_11eb_804b_c46516fc33d3row2_col1\" class=\"data row2 col1\" >False</td>\n",
       "            </tr>\n",
       "            <tr>\n",
       "                        <th id=\"T_b4cfc7d6_a8f1_11eb_804b_c46516fc33d3level0_row3\" class=\"row_heading level0 row3\" >Darile</th>\n",
       "                        <td id=\"T_b4cfc7d6_a8f1_11eb_804b_c46516fc33d3row3_col0\" class=\"data row3 col0\" >False</td>\n",
       "                        <td id=\"T_b4cfc7d6_a8f1_11eb_804b_c46516fc33d3row3_col1\" class=\"data row3 col1\" >False</td>\n",
       "            </tr>\n",
       "            <tr>\n",
       "                        <th id=\"T_b4cfc7d6_a8f1_11eb_804b_c46516fc33d3level0_row4\" class=\"row_heading level0 row4\" >julistary</th>\n",
       "                        <td id=\"T_b4cfc7d6_a8f1_11eb_804b_c46516fc33d3row4_col0\" class=\"data row4 col0\" >True</td>\n",
       "                        <td id=\"T_b4cfc7d6_a8f1_11eb_804b_c46516fc33d3row4_col1\" class=\"data row4 col1\" >False</td>\n",
       "            </tr>\n",
       "            <tr>\n",
       "                        <th id=\"T_b4cfc7d6_a8f1_11eb_804b_c46516fc33d3level0_row5\" class=\"row_heading level0 row5\" >CristinaC</th>\n",
       "                        <td id=\"T_b4cfc7d6_a8f1_11eb_804b_c46516fc33d3row5_col0\" class=\"data row5 col0\" >False</td>\n",
       "                        <td id=\"T_b4cfc7d6_a8f1_11eb_804b_c46516fc33d3row5_col1\" class=\"data row5 col1\" >False</td>\n",
       "            </tr>\n",
       "            <tr>\n",
       "                        <th id=\"T_b4cfc7d6_a8f1_11eb_804b_c46516fc33d3level0_row6\" class=\"row_heading level0 row6\" >Unaiat</th>\n",
       "                        <td id=\"T_b4cfc7d6_a8f1_11eb_804b_c46516fc33d3row6_col0\" class=\"data row6 col0\" >True</td>\n",
       "                        <td id=\"T_b4cfc7d6_a8f1_11eb_804b_c46516fc33d3row6_col1\" class=\"data row6 col1\" >False</td>\n",
       "            </tr>\n",
       "            <tr>\n",
       "                        <th id=\"T_b4cfc7d6_a8f1_11eb_804b_c46516fc33d3level0_row7\" class=\"row_heading level0 row7\" >Marcunu</th>\n",
       "                        <td id=\"T_b4cfc7d6_a8f1_11eb_804b_c46516fc33d3row7_col0\" class=\"data row7 col0\" >True</td>\n",
       "                        <td id=\"T_b4cfc7d6_a8f1_11eb_804b_c46516fc33d3row7_col1\" class=\"data row7 col1\" >False</td>\n",
       "            </tr>\n",
       "            <tr>\n",
       "                        <th id=\"T_b4cfc7d6_a8f1_11eb_804b_c46516fc33d3level0_row8\" class=\"row_heading level0 row8\" >asiokfd</th>\n",
       "                        <td id=\"T_b4cfc7d6_a8f1_11eb_804b_c46516fc33d3row8_col0\" class=\"data row8 col0\" >False</td>\n",
       "                        <td id=\"T_b4cfc7d6_a8f1_11eb_804b_c46516fc33d3row8_col1\" class=\"data row8 col1\" >False</td>\n",
       "            </tr>\n",
       "            <tr>\n",
       "                        <th id=\"T_b4cfc7d6_a8f1_11eb_804b_c46516fc33d3level0_row9\" class=\"row_heading level0 row9\" >Albertoplm</th>\n",
       "                        <td id=\"T_b4cfc7d6_a8f1_11eb_804b_c46516fc33d3row9_col0\" class=\"data row9 col0\" >True</td>\n",
       "                        <td id=\"T_b4cfc7d6_a8f1_11eb_804b_c46516fc33d3row9_col1\" class=\"data row9 col1\" >False</td>\n",
       "            </tr>\n",
       "            <tr>\n",
       "                        <th id=\"T_b4cfc7d6_a8f1_11eb_804b_c46516fc33d3level0_row10\" class=\"row_heading level0 row10\" >pablofdezc</th>\n",
       "                        <td id=\"T_b4cfc7d6_a8f1_11eb_804b_c46516fc33d3row10_col0\" class=\"data row10 col0\" >True</td>\n",
       "                        <td id=\"T_b4cfc7d6_a8f1_11eb_804b_c46516fc33d3row10_col1\" class=\"data row10 col1\" >False</td>\n",
       "            </tr>\n",
       "            <tr>\n",
       "                        <th id=\"T_b4cfc7d6_a8f1_11eb_804b_c46516fc33d3level0_row11\" class=\"row_heading level0 row11\" >Antoniopita95</th>\n",
       "                        <td id=\"T_b4cfc7d6_a8f1_11eb_804b_c46516fc33d3row11_col0\" class=\"data row11 col0\" >True</td>\n",
       "                        <td id=\"T_b4cfc7d6_a8f1_11eb_804b_c46516fc33d3row11_col1\" class=\"data row11 col1\" >False</td>\n",
       "            </tr>\n",
       "            <tr>\n",
       "                        <th id=\"T_b4cfc7d6_a8f1_11eb_804b_c46516fc33d3level0_row12\" class=\"row_heading level0 row12\" >as-Solo</th>\n",
       "                        <td id=\"T_b4cfc7d6_a8f1_11eb_804b_c46516fc33d3row12_col0\" class=\"data row12 col0\" >True</td>\n",
       "                        <td id=\"T_b4cfc7d6_a8f1_11eb_804b_c46516fc33d3row12_col1\" class=\"data row12 col1\" >True</td>\n",
       "            </tr>\n",
       "            <tr>\n",
       "                        <th id=\"T_b4cfc7d6_a8f1_11eb_804b_c46516fc33d3level0_row13\" class=\"row_heading level0 row13\" >PabloFR</th>\n",
       "                        <td id=\"T_b4cfc7d6_a8f1_11eb_804b_c46516fc33d3row13_col0\" class=\"data row13 col0\" >True</td>\n",
       "                        <td id=\"T_b4cfc7d6_a8f1_11eb_804b_c46516fc33d3row13_col1\" class=\"data row13 col1\" >False</td>\n",
       "            </tr>\n",
       "            <tr>\n",
       "                        <th id=\"T_b4cfc7d6_a8f1_11eb_804b_c46516fc33d3level0_row14\" class=\"row_heading level0 row14\" >Carmen-r</th>\n",
       "                        <td id=\"T_b4cfc7d6_a8f1_11eb_804b_c46516fc33d3row14_col0\" class=\"data row14 col0\" >True</td>\n",
       "                        <td id=\"T_b4cfc7d6_a8f1_11eb_804b_c46516fc33d3row14_col1\" class=\"data row14 col1\" >False</td>\n",
       "            </tr>\n",
       "            <tr>\n",
       "                        <th id=\"T_b4cfc7d6_a8f1_11eb_804b_c46516fc33d3level0_row15\" class=\"row_heading level0 row15\" >susanamartin</th>\n",
       "                        <td id=\"T_b4cfc7d6_a8f1_11eb_804b_c46516fc33d3row15_col0\" class=\"data row15 col0\" >True</td>\n",
       "                        <td id=\"T_b4cfc7d6_a8f1_11eb_804b_c46516fc33d3row15_col1\" class=\"data row15 col1\" >False</td>\n",
       "            </tr>\n",
       "            <tr>\n",
       "                        <th id=\"T_b4cfc7d6_a8f1_11eb_804b_c46516fc33d3level0_row16\" class=\"row_heading level0 row16\" >EduMartinezGarrido</th>\n",
       "                        <td id=\"T_b4cfc7d6_a8f1_11eb_804b_c46516fc33d3row16_col0\" class=\"data row16 col0\" >False</td>\n",
       "                        <td id=\"T_b4cfc7d6_a8f1_11eb_804b_c46516fc33d3row16_col1\" class=\"data row16 col1\" >False</td>\n",
       "            </tr>\n",
       "            <tr>\n",
       "                        <th id=\"T_b4cfc7d6_a8f1_11eb_804b_c46516fc33d3level0_row17\" class=\"row_heading level0 row17\" >manuleon87</th>\n",
       "                        <td id=\"T_b4cfc7d6_a8f1_11eb_804b_c46516fc33d3row17_col0\" class=\"data row17 col0\" >False</td>\n",
       "                        <td id=\"T_b4cfc7d6_a8f1_11eb_804b_c46516fc33d3row17_col1\" class=\"data row17 col1\" >False</td>\n",
       "            </tr>\n",
       "            <tr>\n",
       "                        <th id=\"T_b4cfc7d6_a8f1_11eb_804b_c46516fc33d3level0_row18\" class=\"row_heading level0 row18\" >Bertrangsf</th>\n",
       "                        <td id=\"T_b4cfc7d6_a8f1_11eb_804b_c46516fc33d3row18_col0\" class=\"data row18 col0\" >False</td>\n",
       "                        <td id=\"T_b4cfc7d6_a8f1_11eb_804b_c46516fc33d3row18_col1\" class=\"data row18 col1\" >False</td>\n",
       "            </tr>\n",
       "            <tr>\n",
       "                        <th id=\"T_b4cfc7d6_a8f1_11eb_804b_c46516fc33d3level0_row19\" class=\"row_heading level0 row19\" >Trinche10</th>\n",
       "                        <td id=\"T_b4cfc7d6_a8f1_11eb_804b_c46516fc33d3row19_col0\" class=\"data row19 col0\" >False</td>\n",
       "                        <td id=\"T_b4cfc7d6_a8f1_11eb_804b_c46516fc33d3row19_col1\" class=\"data row19 col1\" >False</td>\n",
       "            </tr>\n",
       "    </tbody></table>"
      ],
      "text/plain": [
       "<pandas.io.formats.style.Styler at 0x7fadf93b5940>"
      ]
     },
     "metadata": {},
     "output_type": "display_data"
    }
   ],
   "source": [
    "#drumroll = pygame.mixer.Sound('drumroll.wav')\n",
    "#drumroll.play()\n",
    "\n",
    "def main(): \n",
    "    df_students, df_katas = adquire()    \n",
    "    df_students, df_katas = cleaning(df_students, df_katas)\n",
    "    df,hora= create_df_checking(df_students, df_katas)    \n",
    "    outputs(df,False)\n",
    "    return df\n",
    "\n",
    "\n",
    "if __name__ == '__main__':\n",
    "    df = main()"
   ]
  },
  {
   "cell_type": "code",
   "execution_count": null,
   "metadata": {},
   "outputs": [],
   "source": []
  },
  {
   "cell_type": "code",
   "execution_count": null,
   "metadata": {},
   "outputs": [],
   "source": []
  },
  {
   "cell_type": "code",
   "execution_count": null,
   "metadata": {},
   "outputs": [],
   "source": []
  },
  {
   "cell_type": "code",
   "execution_count": null,
   "metadata": {},
   "outputs": [],
   "source": []
  },
  {
   "cell_type": "code",
   "execution_count": 16,
   "metadata": {},
   "outputs": [],
   "source": [
    "town = \"~O~O~O~OP~O~OO~\""
   ]
  },
  {
   "cell_type": "code",
   "execution_count": 17,
   "metadata": {},
   "outputs": [
    {
     "data": {
      "text/plain": [
       "'~~~~POO~'"
      ]
     },
     "execution_count": 17,
     "metadata": {},
     "output_type": "execute_result"
    }
   ],
   "source": [
    "x = town.replace(\" \", \"\")\n",
    "rats = x[::2]\n",
    "rats\n",
    " "
   ]
  },
  {
   "cell_type": "code",
   "execution_count": 22,
   "metadata": {},
   "outputs": [
    {
     "data": {
      "text/plain": [
       "['~O~O~O~O', '~O~OO~']"
      ]
     },
     "execution_count": 22,
     "metadata": {},
     "output_type": "execute_result"
    }
   ],
   "source": [
    "s = \"~O~O~O~OP~O~OO~\"\n",
    "\n",
    "x = s.split(\"P\")\n",
    "x"
   ]
  },
  {
   "cell_type": "code",
   "execution_count": 24,
   "metadata": {},
   "outputs": [
    {
     "data": {
      "text/plain": [
       "['~O~O~O~O']"
      ]
     },
     "execution_count": 24,
     "metadata": {},
     "output_type": "execute_result"
    }
   ],
   "source": [
    "y = x[0].split(\" \")\n",
    "y"
   ]
  },
  {
   "cell_type": "code",
   "execution_count": 31,
   "metadata": {},
   "outputs": [
    {
     "name": "stdout",
     "output_type": "stream",
     "text": [
      "~O\n",
      "~O\n",
      "~O\n",
      "~O\n"
     ]
    }
   ],
   "source": [
    "s = \"~O~O~O~O\"\n",
    "for i in range(0, len(s), 2):\n",
    "    op= s[i:i+2]\n",
    "    if op == left:\n",
    "        contador "
   ]
  },
  {
   "cell_type": "code",
   "execution_count": 26,
   "metadata": {},
   "outputs": [
    {
     "ename": "TypeError",
     "evalue": "must be str, not int",
     "output_type": "error",
     "traceback": [
      "\u001b[0;31m---------------------------------------------------------------------------\u001b[0m",
      "\u001b[0;31mTypeError\u001b[0m                                 Traceback (most recent call last)",
      "\u001b[0;32m<ipython-input-26-6682a1b00228>\u001b[0m in \u001b[0;36m<module>\u001b[0;34m\u001b[0m\n\u001b[1;32m      1\u001b[0m \u001b[0;32mfor\u001b[0m \u001b[0mi\u001b[0m \u001b[0;32min\u001b[0m \u001b[0my\u001b[0m\u001b[0;34m:\u001b[0m\u001b[0;34m\u001b[0m\u001b[0m\n\u001b[0;32m----> 2\u001b[0;31m     \u001b[0my\u001b[0m\u001b[0;34m[\u001b[0m\u001b[0mi\u001b[0m\u001b[0;34m:\u001b[0m\u001b[0mi\u001b[0m\u001b[0;34m+\u001b[0m\u001b[0;36m2\u001b[0m\u001b[0;34m]\u001b[0m\u001b[0;34m\u001b[0m\u001b[0m\n\u001b[0m",
      "\u001b[0;31mTypeError\u001b[0m: must be str, not int"
     ]
    }
   ],
   "source": [
    "for i in y:\n",
    "    y[i:i+2]"
   ]
  },
  {
   "cell_type": "code",
   "execution_count": null,
   "metadata": {},
   "outputs": [],
   "source": []
  }
 ],
 "metadata": {
  "kernelspec": {
   "display_name": "Python 3",
   "language": "python",
   "name": "python3"
  },
  "language_info": {
   "codemirror_mode": {
    "name": "ipython",
    "version": 3
   },
   "file_extension": ".py",
   "mimetype": "text/x-python",
   "name": "python",
   "nbconvert_exporter": "python",
   "pygments_lexer": "ipython3",
   "version": "3.6.6"
  },
  "toc": {
   "base_numbering": 1,
   "nav_menu": {},
   "number_sections": true,
   "sideBar": true,
   "skip_h1_title": false,
   "title_cell": "Table of Contents",
   "title_sidebar": "Contents",
   "toc_cell": false,
   "toc_position": {},
   "toc_section_display": true,
   "toc_window_display": false
  },
  "varInspector": {
   "cols": {
    "lenName": 16,
    "lenType": 16,
    "lenVar": 40
   },
   "kernels_config": {
    "python": {
     "delete_cmd_postfix": "",
     "delete_cmd_prefix": "del ",
     "library": "var_list.py",
     "varRefreshCmd": "print(var_dic_list())"
    },
    "r": {
     "delete_cmd_postfix": ") ",
     "delete_cmd_prefix": "rm(",
     "library": "var_list.r",
     "varRefreshCmd": "cat(var_dic_list()) "
    }
   },
   "types_to_exclude": [
    "module",
    "function",
    "builtin_function_or_method",
    "instance",
    "_Feature"
   ],
   "window_display": false
  }
 },
 "nbformat": 4,
 "nbformat_minor": 2
}
